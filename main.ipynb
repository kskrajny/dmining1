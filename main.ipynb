{
 "cells": [
  {
   "cell_type": "code",
   "execution_count": 21,
   "metadata": {
    "collapsed": true
   },
   "outputs": [
    {
     "data": {
      "text/plain": "                    timestamp  arena_id        tag    opp_tag  has_won  \\\n0         2019-01-01 00:00:46         8  8L9GQVVUL  9QRV2V888      1.0   \n1         2019-01-01 00:02:00        13   92GLVGQU  9PVGG0JUQ      1.0   \n2         2019-01-01 00:02:21        12  8RPVVVRPV   JP0VC992      1.0   \n3         2019-01-01 00:03:12        12   Y0PQGY0R  2L0RUP82R      0.0   \n4         2019-01-01 00:03:42        13   92GLVGQU  P2L989LCR      1.0   \n...                       ...       ...        ...        ...      ...   \n16129083  2019-01-31 22:14:34         2  P9J2VV29J  PP0U2QRRL      1.0   \n16129084  2019-01-31 22:19:07         2  P9J2VV29J  PP0CRP9CV      0.0   \n16129085  2019-01-31 22:22:54         2  P9J2VV29J  PY09QU28Y      1.0   \n16129086  2019-01-31 22:28:00         2  P9J2VV29J  9UG28GQ2U      0.0   \n16129087  2019-01-31 22:31:38         2  P9J2VV29J  PPUYC0QCC      1.0   \n\n                                                player_deck  \\\n0         balloon_barbarian-barrel_elixir-collector_fire...   \n1         baby-dragon_balloon_barbarian-barrel_bowler_fr...   \n2         goblin-barrel_hog-rider_inferno-tower_minion-h...   \n3         arrows_balloon_electro-wizard_ice-wizard_infer...   \n4         baby-dragon_balloon_barbarian-barrel_bowler_fr...   \n...                                                     ...   \n16129083  archers_fireball_giant_knight_mini-pekka_muske...   \n16129084  archers_fireball_giant_goblin-hut_knight_mini-...   \n16129085  archers_fireball_giant_goblins_knight_mini-pek...   \n16129086  archers_fireball_giant_goblins_knight_mini-pek...   \n16129087  archers_fireball_giant_hog-rider_knight_mini-p...   \n\n                                                   opp_deck  \n0         bomb-tower_executioner_ice-wizard_inferno-towe...  \n1         baby-dragon_bats_dart-goblin_electro-wizard_fl...  \n2         bandit_battle-ram_electro-wizard_fireball_mini...  \n3         clone_executioner_fireball_giant-skeleton_mine...  \n4         bats_clone_elixir-collector_executioner_golem_...  \n...                                                     ...  \n16129083  archers_arrows_fireball_hog-rider_knight_mini-...  \n16129084  arrows_fireball_giant_knight_mini-pekka_musket...  \n16129085  arrows_fireball_giant_goblin-hut_hog-rider_min...  \n16129086  baby-dragon_bomber_fireball_giant_hog-rider_mi...  \n16129087  baby-dragon_giant_hog-rider_knight_mini-pekka_...  \n\n[16129088 rows x 7 columns]",
      "text/html": "<div>\n<style scoped>\n    .dataframe tbody tr th:only-of-type {\n        vertical-align: middle;\n    }\n\n    .dataframe tbody tr th {\n        vertical-align: top;\n    }\n\n    .dataframe thead th {\n        text-align: right;\n    }\n</style>\n<table border=\"1\" class=\"dataframe\">\n  <thead>\n    <tr style=\"text-align: right;\">\n      <th></th>\n      <th>timestamp</th>\n      <th>arena_id</th>\n      <th>tag</th>\n      <th>opp_tag</th>\n      <th>has_won</th>\n      <th>player_deck</th>\n      <th>opp_deck</th>\n    </tr>\n  </thead>\n  <tbody>\n    <tr>\n      <th>0</th>\n      <td>2019-01-01 00:00:46</td>\n      <td>8</td>\n      <td>8L9GQVVUL</td>\n      <td>9QRV2V888</td>\n      <td>1.0</td>\n      <td>balloon_barbarian-barrel_elixir-collector_fire...</td>\n      <td>bomb-tower_executioner_ice-wizard_inferno-towe...</td>\n    </tr>\n    <tr>\n      <th>1</th>\n      <td>2019-01-01 00:02:00</td>\n      <td>13</td>\n      <td>92GLVGQU</td>\n      <td>9PVGG0JUQ</td>\n      <td>1.0</td>\n      <td>baby-dragon_balloon_barbarian-barrel_bowler_fr...</td>\n      <td>baby-dragon_bats_dart-goblin_electro-wizard_fl...</td>\n    </tr>\n    <tr>\n      <th>2</th>\n      <td>2019-01-01 00:02:21</td>\n      <td>12</td>\n      <td>8RPVVVRPV</td>\n      <td>JP0VC992</td>\n      <td>1.0</td>\n      <td>goblin-barrel_hog-rider_inferno-tower_minion-h...</td>\n      <td>bandit_battle-ram_electro-wizard_fireball_mini...</td>\n    </tr>\n    <tr>\n      <th>3</th>\n      <td>2019-01-01 00:03:12</td>\n      <td>12</td>\n      <td>Y0PQGY0R</td>\n      <td>2L0RUP82R</td>\n      <td>0.0</td>\n      <td>arrows_balloon_electro-wizard_ice-wizard_infer...</td>\n      <td>clone_executioner_fireball_giant-skeleton_mine...</td>\n    </tr>\n    <tr>\n      <th>4</th>\n      <td>2019-01-01 00:03:42</td>\n      <td>13</td>\n      <td>92GLVGQU</td>\n      <td>P2L989LCR</td>\n      <td>1.0</td>\n      <td>baby-dragon_balloon_barbarian-barrel_bowler_fr...</td>\n      <td>bats_clone_elixir-collector_executioner_golem_...</td>\n    </tr>\n    <tr>\n      <th>...</th>\n      <td>...</td>\n      <td>...</td>\n      <td>...</td>\n      <td>...</td>\n      <td>...</td>\n      <td>...</td>\n      <td>...</td>\n    </tr>\n    <tr>\n      <th>16129083</th>\n      <td>2019-01-31 22:14:34</td>\n      <td>2</td>\n      <td>P9J2VV29J</td>\n      <td>PP0U2QRRL</td>\n      <td>1.0</td>\n      <td>archers_fireball_giant_knight_mini-pekka_muske...</td>\n      <td>archers_arrows_fireball_hog-rider_knight_mini-...</td>\n    </tr>\n    <tr>\n      <th>16129084</th>\n      <td>2019-01-31 22:19:07</td>\n      <td>2</td>\n      <td>P9J2VV29J</td>\n      <td>PP0CRP9CV</td>\n      <td>0.0</td>\n      <td>archers_fireball_giant_goblin-hut_knight_mini-...</td>\n      <td>arrows_fireball_giant_knight_mini-pekka_musket...</td>\n    </tr>\n    <tr>\n      <th>16129085</th>\n      <td>2019-01-31 22:22:54</td>\n      <td>2</td>\n      <td>P9J2VV29J</td>\n      <td>PY09QU28Y</td>\n      <td>1.0</td>\n      <td>archers_fireball_giant_goblins_knight_mini-pek...</td>\n      <td>arrows_fireball_giant_goblin-hut_hog-rider_min...</td>\n    </tr>\n    <tr>\n      <th>16129086</th>\n      <td>2019-01-31 22:28:00</td>\n      <td>2</td>\n      <td>P9J2VV29J</td>\n      <td>9UG28GQ2U</td>\n      <td>0.0</td>\n      <td>archers_fireball_giant_goblins_knight_mini-pek...</td>\n      <td>baby-dragon_bomber_fireball_giant_hog-rider_mi...</td>\n    </tr>\n    <tr>\n      <th>16129087</th>\n      <td>2019-01-31 22:31:38</td>\n      <td>2</td>\n      <td>P9J2VV29J</td>\n      <td>PPUYC0QCC</td>\n      <td>1.0</td>\n      <td>archers_fireball_giant_hog-rider_knight_mini-p...</td>\n      <td>baby-dragon_giant_hog-rider_knight_mini-pekka_...</td>\n    </tr>\n  </tbody>\n</table>\n<p>16129088 rows × 7 columns</p>\n</div>"
     },
     "execution_count": 21,
     "metadata": {},
     "output_type": "execute_result"
    }
   ],
   "source": [
    "import pandas as pd\n",
    "from sklearn.decomposition import PCA\n",
    "from psynlig import pca_explained_variance_bar\n",
    "import matplotlib.pyplot as plt\n",
    "from sklearn.cluster import KMeans\n",
    "import plotly.graph_objs as go\n",
    "import itertools\n",
    "\n",
    "df = pd.read_csv('jan_2019_games_arenas_1_to_13.csv')\n",
    "df"
   ]
  },
  {
   "cell_type": "code",
   "execution_count": 22,
   "outputs": [
    {
     "data": {
      "text/plain": "{'archers',\n 'arrows',\n 'baby-dragon',\n 'balloon',\n 'bandit',\n 'barbarian-barrel',\n 'barbarian-hut',\n 'barbarians',\n 'bats',\n 'battle-ram',\n 'bomb-tower',\n 'bomber',\n 'bowler',\n 'cannon',\n 'cannon-cart',\n 'clone',\n 'dark-prince',\n 'dart-goblin',\n 'electro-dragon',\n 'electro-wizard',\n 'elite-barbarians',\n 'elixir-collector',\n 'executioner',\n 'fire-spirits',\n 'fireball',\n 'flying-machine',\n 'freeze',\n 'furnace',\n 'giant',\n 'giant-skeleton',\n 'giant-snowball',\n 'goblin-barrel',\n 'goblin-gang',\n 'goblin-giant',\n 'goblin-hut',\n 'goblins',\n 'golem',\n 'graveyard',\n 'guards',\n 'heal',\n 'hog-rider',\n 'hunter',\n 'ice-golem',\n 'ice-spirit',\n 'ice-wizard',\n 'inferno-dragon',\n 'inferno-tower',\n 'knight',\n 'lava-hound',\n 'lightning',\n 'lumberjack',\n 'magic-archer',\n 'mega-knight',\n 'mega-minion',\n 'miner',\n 'mini-pekka',\n 'minion-horde',\n 'minions',\n 'mirror',\n 'mortar',\n 'musketeer',\n 'night-witch',\n 'pekka',\n 'poison',\n 'prince',\n 'princess',\n 'rage',\n 'ram-rider',\n 'rascals',\n 'rocket',\n 'royal-ghost',\n 'royal-giant',\n 'royal-hogs',\n 'royal-recruits',\n 'skeleton-army',\n 'skeleton-barrel',\n 'skeletons',\n 'sparky',\n 'spear-goblins',\n 'tesla',\n 'the-log',\n 'three-musketeers',\n 'tombstone',\n 'tornado',\n 'valkyrie',\n 'witch',\n 'wizard',\n 'x-bow',\n 'zap',\n 'zappies'}"
     },
     "execution_count": 22,
     "metadata": {},
     "output_type": "execute_result"
    }
   ],
   "source": [
    "player_deck = set()\n",
    "for v in df['player_deck'].values:\n",
    "    for elem in v.split('_'):\n",
    "        player_deck.add(elem)\n",
    "player_deck"
   ],
   "metadata": {
    "collapsed": false,
    "pycharm": {
     "name": "#%%\n"
    }
   }
  },
  {
   "cell_type": "code",
   "execution_count": 23,
   "outputs": [
    {
     "data": {
      "text/plain": "                    timestamp  arena_id        tag    opp_tag  has_won  \\\n0         2019-01-01 00:00:46         8  8L9GQVVUL  9QRV2V888      1.0   \n1         2019-01-01 00:02:00        13   92GLVGQU  9PVGG0JUQ      1.0   \n2         2019-01-01 00:02:21        12  8RPVVVRPV   JP0VC992      1.0   \n3         2019-01-01 00:03:12        12   Y0PQGY0R  2L0RUP82R      0.0   \n4         2019-01-01 00:03:42        13   92GLVGQU  P2L989LCR      1.0   \n...                       ...       ...        ...        ...      ...   \n16129083  2019-01-31 22:14:34         2  P9J2VV29J  PP0U2QRRL      1.0   \n16129084  2019-01-31 22:19:07         2  P9J2VV29J  PP0CRP9CV      0.0   \n16129085  2019-01-31 22:22:54         2  P9J2VV29J  PY09QU28Y      1.0   \n16129086  2019-01-31 22:28:00         2  P9J2VV29J  9UG28GQ2U      0.0   \n16129087  2019-01-31 22:31:38         2  P9J2VV29J  PPUYC0QCC      1.0   \n\n                                                player_deck  \\\n0         balloon_barbarian-barrel_elixir-collector_fire...   \n1         baby-dragon_balloon_barbarian-barrel_bowler_fr...   \n2         goblin-barrel_hog-rider_inferno-tower_minion-h...   \n3         arrows_balloon_electro-wizard_ice-wizard_infer...   \n4         baby-dragon_balloon_barbarian-barrel_bowler_fr...   \n...                                                     ...   \n16129083  archers_fireball_giant_knight_mini-pekka_muske...   \n16129084  archers_fireball_giant_goblin-hut_knight_mini-...   \n16129085  archers_fireball_giant_goblins_knight_mini-pek...   \n16129086  archers_fireball_giant_goblins_knight_mini-pek...   \n16129087  archers_fireball_giant_hog-rider_knight_mini-p...   \n\n                                                   opp_deck  baby-dragon  \\\n0         bomb-tower_executioner_ice-wizard_inferno-towe...        False   \n1         baby-dragon_bats_dart-goblin_electro-wizard_fl...         True   \n2         bandit_battle-ram_electro-wizard_fireball_mini...        False   \n3         clone_executioner_fireball_giant-skeleton_mine...        False   \n4         bats_clone_elixir-collector_executioner_golem_...         True   \n...                                                     ...          ...   \n16129083  archers_arrows_fireball_hog-rider_knight_mini-...        False   \n16129084  arrows_fireball_giant_knight_mini-pekka_musket...        False   \n16129085  arrows_fireball_giant_goblin-hut_hog-rider_min...        False   \n16129086  baby-dragon_bomber_fireball_giant_hog-rider_mi...        False   \n16129087  baby-dragon_giant_hog-rider_knight_mini-pekka_...        False   \n\n          cannon-cart  bomber  ...  barbarians  mini-pekka  hunter  \\\n0               False   False  ...       False       False   False   \n1               False   False  ...       False       False   False   \n2               False   False  ...       False       False   False   \n3               False   False  ...       False       False   False   \n4               False   False  ...       False       False   False   \n...               ...     ...  ...         ...         ...     ...   \n16129083        False   False  ...       False        True   False   \n16129084        False   False  ...       False        True   False   \n16129085        False   False  ...       False        True   False   \n16129086        False   False  ...       False        True   False   \n16129087        False   False  ...       False        True   False   \n\n          lumberjack  giant-snowball  electro-wizard  giant  tombstone  \\\n0              False           False           False  False      False   \n1               True           False           False  False      False   \n2              False           False           False  False      False   \n3              False           False            True  False       True   \n4               True           False           False  False      False   \n...              ...             ...             ...    ...        ...   \n16129083       False           False           False   True      False   \n16129084       False           False           False   True       True   \n16129085       False           False           False   True      False   \n16129086       False           False           False   True      False   \n16129087       False           False           False   True      False   \n\n          elixir-collector  battle-ram  \n0                     True       False  \n1                    False       False  \n2                    False       False  \n3                    False       False  \n4                    False       False  \n...                    ...         ...  \n16129083             False       False  \n16129084             False       False  \n16129085             False       False  \n16129086             False       False  \n16129087             False       False  \n\n[16129088 rows x 97 columns]",
      "text/html": "<div>\n<style scoped>\n    .dataframe tbody tr th:only-of-type {\n        vertical-align: middle;\n    }\n\n    .dataframe tbody tr th {\n        vertical-align: top;\n    }\n\n    .dataframe thead th {\n        text-align: right;\n    }\n</style>\n<table border=\"1\" class=\"dataframe\">\n  <thead>\n    <tr style=\"text-align: right;\">\n      <th></th>\n      <th>timestamp</th>\n      <th>arena_id</th>\n      <th>tag</th>\n      <th>opp_tag</th>\n      <th>has_won</th>\n      <th>player_deck</th>\n      <th>opp_deck</th>\n      <th>baby-dragon</th>\n      <th>cannon-cart</th>\n      <th>bomber</th>\n      <th>...</th>\n      <th>barbarians</th>\n      <th>mini-pekka</th>\n      <th>hunter</th>\n      <th>lumberjack</th>\n      <th>giant-snowball</th>\n      <th>electro-wizard</th>\n      <th>giant</th>\n      <th>tombstone</th>\n      <th>elixir-collector</th>\n      <th>battle-ram</th>\n    </tr>\n  </thead>\n  <tbody>\n    <tr>\n      <th>0</th>\n      <td>2019-01-01 00:00:46</td>\n      <td>8</td>\n      <td>8L9GQVVUL</td>\n      <td>9QRV2V888</td>\n      <td>1.0</td>\n      <td>balloon_barbarian-barrel_elixir-collector_fire...</td>\n      <td>bomb-tower_executioner_ice-wizard_inferno-towe...</td>\n      <td>False</td>\n      <td>False</td>\n      <td>False</td>\n      <td>...</td>\n      <td>False</td>\n      <td>False</td>\n      <td>False</td>\n      <td>False</td>\n      <td>False</td>\n      <td>False</td>\n      <td>False</td>\n      <td>False</td>\n      <td>True</td>\n      <td>False</td>\n    </tr>\n    <tr>\n      <th>1</th>\n      <td>2019-01-01 00:02:00</td>\n      <td>13</td>\n      <td>92GLVGQU</td>\n      <td>9PVGG0JUQ</td>\n      <td>1.0</td>\n      <td>baby-dragon_balloon_barbarian-barrel_bowler_fr...</td>\n      <td>baby-dragon_bats_dart-goblin_electro-wizard_fl...</td>\n      <td>True</td>\n      <td>False</td>\n      <td>False</td>\n      <td>...</td>\n      <td>False</td>\n      <td>False</td>\n      <td>False</td>\n      <td>True</td>\n      <td>False</td>\n      <td>False</td>\n      <td>False</td>\n      <td>False</td>\n      <td>False</td>\n      <td>False</td>\n    </tr>\n    <tr>\n      <th>2</th>\n      <td>2019-01-01 00:02:21</td>\n      <td>12</td>\n      <td>8RPVVVRPV</td>\n      <td>JP0VC992</td>\n      <td>1.0</td>\n      <td>goblin-barrel_hog-rider_inferno-tower_minion-h...</td>\n      <td>bandit_battle-ram_electro-wizard_fireball_mini...</td>\n      <td>False</td>\n      <td>False</td>\n      <td>False</td>\n      <td>...</td>\n      <td>False</td>\n      <td>False</td>\n      <td>False</td>\n      <td>False</td>\n      <td>False</td>\n      <td>False</td>\n      <td>False</td>\n      <td>False</td>\n      <td>False</td>\n      <td>False</td>\n    </tr>\n    <tr>\n      <th>3</th>\n      <td>2019-01-01 00:03:12</td>\n      <td>12</td>\n      <td>Y0PQGY0R</td>\n      <td>2L0RUP82R</td>\n      <td>0.0</td>\n      <td>arrows_balloon_electro-wizard_ice-wizard_infer...</td>\n      <td>clone_executioner_fireball_giant-skeleton_mine...</td>\n      <td>False</td>\n      <td>False</td>\n      <td>False</td>\n      <td>...</td>\n      <td>False</td>\n      <td>False</td>\n      <td>False</td>\n      <td>False</td>\n      <td>False</td>\n      <td>True</td>\n      <td>False</td>\n      <td>True</td>\n      <td>False</td>\n      <td>False</td>\n    </tr>\n    <tr>\n      <th>4</th>\n      <td>2019-01-01 00:03:42</td>\n      <td>13</td>\n      <td>92GLVGQU</td>\n      <td>P2L989LCR</td>\n      <td>1.0</td>\n      <td>baby-dragon_balloon_barbarian-barrel_bowler_fr...</td>\n      <td>bats_clone_elixir-collector_executioner_golem_...</td>\n      <td>True</td>\n      <td>False</td>\n      <td>False</td>\n      <td>...</td>\n      <td>False</td>\n      <td>False</td>\n      <td>False</td>\n      <td>True</td>\n      <td>False</td>\n      <td>False</td>\n      <td>False</td>\n      <td>False</td>\n      <td>False</td>\n      <td>False</td>\n    </tr>\n    <tr>\n      <th>...</th>\n      <td>...</td>\n      <td>...</td>\n      <td>...</td>\n      <td>...</td>\n      <td>...</td>\n      <td>...</td>\n      <td>...</td>\n      <td>...</td>\n      <td>...</td>\n      <td>...</td>\n      <td>...</td>\n      <td>...</td>\n      <td>...</td>\n      <td>...</td>\n      <td>...</td>\n      <td>...</td>\n      <td>...</td>\n      <td>...</td>\n      <td>...</td>\n      <td>...</td>\n      <td>...</td>\n    </tr>\n    <tr>\n      <th>16129083</th>\n      <td>2019-01-31 22:14:34</td>\n      <td>2</td>\n      <td>P9J2VV29J</td>\n      <td>PP0U2QRRL</td>\n      <td>1.0</td>\n      <td>archers_fireball_giant_knight_mini-pekka_muske...</td>\n      <td>archers_arrows_fireball_hog-rider_knight_mini-...</td>\n      <td>False</td>\n      <td>False</td>\n      <td>False</td>\n      <td>...</td>\n      <td>False</td>\n      <td>True</td>\n      <td>False</td>\n      <td>False</td>\n      <td>False</td>\n      <td>False</td>\n      <td>True</td>\n      <td>False</td>\n      <td>False</td>\n      <td>False</td>\n    </tr>\n    <tr>\n      <th>16129084</th>\n      <td>2019-01-31 22:19:07</td>\n      <td>2</td>\n      <td>P9J2VV29J</td>\n      <td>PP0CRP9CV</td>\n      <td>0.0</td>\n      <td>archers_fireball_giant_goblin-hut_knight_mini-...</td>\n      <td>arrows_fireball_giant_knight_mini-pekka_musket...</td>\n      <td>False</td>\n      <td>False</td>\n      <td>False</td>\n      <td>...</td>\n      <td>False</td>\n      <td>True</td>\n      <td>False</td>\n      <td>False</td>\n      <td>False</td>\n      <td>False</td>\n      <td>True</td>\n      <td>True</td>\n      <td>False</td>\n      <td>False</td>\n    </tr>\n    <tr>\n      <th>16129085</th>\n      <td>2019-01-31 22:22:54</td>\n      <td>2</td>\n      <td>P9J2VV29J</td>\n      <td>PY09QU28Y</td>\n      <td>1.0</td>\n      <td>archers_fireball_giant_goblins_knight_mini-pek...</td>\n      <td>arrows_fireball_giant_goblin-hut_hog-rider_min...</td>\n      <td>False</td>\n      <td>False</td>\n      <td>False</td>\n      <td>...</td>\n      <td>False</td>\n      <td>True</td>\n      <td>False</td>\n      <td>False</td>\n      <td>False</td>\n      <td>False</td>\n      <td>True</td>\n      <td>False</td>\n      <td>False</td>\n      <td>False</td>\n    </tr>\n    <tr>\n      <th>16129086</th>\n      <td>2019-01-31 22:28:00</td>\n      <td>2</td>\n      <td>P9J2VV29J</td>\n      <td>9UG28GQ2U</td>\n      <td>0.0</td>\n      <td>archers_fireball_giant_goblins_knight_mini-pek...</td>\n      <td>baby-dragon_bomber_fireball_giant_hog-rider_mi...</td>\n      <td>False</td>\n      <td>False</td>\n      <td>False</td>\n      <td>...</td>\n      <td>False</td>\n      <td>True</td>\n      <td>False</td>\n      <td>False</td>\n      <td>False</td>\n      <td>False</td>\n      <td>True</td>\n      <td>False</td>\n      <td>False</td>\n      <td>False</td>\n    </tr>\n    <tr>\n      <th>16129087</th>\n      <td>2019-01-31 22:31:38</td>\n      <td>2</td>\n      <td>P9J2VV29J</td>\n      <td>PPUYC0QCC</td>\n      <td>1.0</td>\n      <td>archers_fireball_giant_hog-rider_knight_mini-p...</td>\n      <td>baby-dragon_giant_hog-rider_knight_mini-pekka_...</td>\n      <td>False</td>\n      <td>False</td>\n      <td>False</td>\n      <td>...</td>\n      <td>False</td>\n      <td>True</td>\n      <td>False</td>\n      <td>False</td>\n      <td>False</td>\n      <td>False</td>\n      <td>True</td>\n      <td>False</td>\n      <td>False</td>\n      <td>False</td>\n    </tr>\n  </tbody>\n</table>\n<p>16129088 rows × 97 columns</p>\n</div>"
     },
     "execution_count": 23,
     "metadata": {},
     "output_type": "execute_result"
    }
   ],
   "source": [
    "for elem in player_deck:\n",
    "    df[elem] = df['player_deck'].map(lambda x: elem in x)\n",
    "df"
   ],
   "metadata": {
    "collapsed": false,
    "pycharm": {
     "name": "#%%\n"
    }
   }
  },
  {
   "cell_type": "code",
   "execution_count": 12,
   "outputs": [
    {
     "data": {
      "text/plain": "               card  usage\n0            wizard   0.57\n0            prince   0.35\n0          valkyrie   0.33\n0             giant   0.31\n0           the-log   0.30\n..              ...    ...\n0             x-bow   0.00\n0        goblin-hut   0.00\n0         ram-rider   0.00\n0   skeleton-barrel   0.00\n0    royal-recruits   0.00\n\n[90 rows x 2 columns]",
      "text/html": "<div>\n<style scoped>\n    .dataframe tbody tr th:only-of-type {\n        vertical-align: middle;\n    }\n\n    .dataframe tbody tr th {\n        vertical-align: top;\n    }\n\n    .dataframe thead th {\n        text-align: right;\n    }\n</style>\n<table border=\"1\" class=\"dataframe\">\n  <thead>\n    <tr style=\"text-align: right;\">\n      <th></th>\n      <th>card</th>\n      <th>usage</th>\n    </tr>\n  </thead>\n  <tbody>\n    <tr>\n      <th>0</th>\n      <td>wizard</td>\n      <td>0.57</td>\n    </tr>\n    <tr>\n      <th>0</th>\n      <td>prince</td>\n      <td>0.35</td>\n    </tr>\n    <tr>\n      <th>0</th>\n      <td>valkyrie</td>\n      <td>0.33</td>\n    </tr>\n    <tr>\n      <th>0</th>\n      <td>giant</td>\n      <td>0.31</td>\n    </tr>\n    <tr>\n      <th>0</th>\n      <td>the-log</td>\n      <td>0.30</td>\n    </tr>\n    <tr>\n      <th>...</th>\n      <td>...</td>\n      <td>...</td>\n    </tr>\n    <tr>\n      <th>0</th>\n      <td>x-bow</td>\n      <td>0.00</td>\n    </tr>\n    <tr>\n      <th>0</th>\n      <td>goblin-hut</td>\n      <td>0.00</td>\n    </tr>\n    <tr>\n      <th>0</th>\n      <td>ram-rider</td>\n      <td>0.00</td>\n    </tr>\n    <tr>\n      <th>0</th>\n      <td>skeleton-barrel</td>\n      <td>0.00</td>\n    </tr>\n    <tr>\n      <th>0</th>\n      <td>royal-recruits</td>\n      <td>0.00</td>\n    </tr>\n  </tbody>\n</table>\n<p>90 rows × 2 columns</p>\n</div>"
     },
     "execution_count": 12,
     "metadata": {},
     "output_type": "execute_result"
    }
   ],
   "source": [
    "df_jan = df[(df.timestamp.map(lambda x: x[5:7] == '01')) & (df.timestamp.map(lambda x: x[:4] == '2019'))].iloc[:100]\n",
    "usage_1 = pd.DataFrame()\n",
    "\n",
    "for elems in list(itertools.combinations(player_deck, 1)):\n",
    "    df_local = df_jan\n",
    "    for elem in elems:\n",
    "        df_local = df_local[df_local[elem]]\n",
    "    usage = len(df_local) / len(df_jan)\n",
    "    usage_1 = pd.concat([usage_1, pd.DataFrame({'card': \"\".join(elems), 'usage': usage}, index=[0])])\n",
    "\n",
    "usage_1 = usage_1.sort_values('usage', ascending=False)\n",
    "usage_1"
   ],
   "metadata": {
    "collapsed": false,
    "pycharm": {
     "name": "#%%\n"
    }
   }
  },
  {
   "cell_type": "code",
   "execution_count": 10,
   "outputs": [
    {
     "data": {
      "text/plain": "                        card  usage\n0            wizard_valkyrie   0.28\n0               giant_wizard   0.25\n0              prince_wizard   0.23\n0          lumberjack_wizard   0.20\n0               prince_witch   0.19\n0       giant_giant-skeleton   0.18\n0              giant_the-log   0.16\n0      wizard_giant-skeleton   0.15\n0                 wizard_zap   0.14\n0                the-log_zap   0.13\n0    skeleton-army_hog-rider   0.12\n0              giant_tornado   0.11\n0           lumberjack_witch   0.10\n0         the-log_lumberjack   0.09\n0          skeleton-army_zap   0.08\n0               zap_fireball   0.07\n0         witch_minion-horde   0.06\n0  skeleton-army_executioner   0.05\n0         baby-dragon_bowler   0.04\n0       valkyrie_mega-knight   0.03\n0           wizard_tombstone   0.02\n0           witch_barbarians   0.01\n0  lumberjack_giant-snowball   0.00",
      "text/html": "<div>\n<style scoped>\n    .dataframe tbody tr th:only-of-type {\n        vertical-align: middle;\n    }\n\n    .dataframe tbody tr th {\n        vertical-align: top;\n    }\n\n    .dataframe thead th {\n        text-align: right;\n    }\n</style>\n<table border=\"1\" class=\"dataframe\">\n  <thead>\n    <tr style=\"text-align: right;\">\n      <th></th>\n      <th>card</th>\n      <th>usage</th>\n    </tr>\n  </thead>\n  <tbody>\n    <tr>\n      <th>0</th>\n      <td>wizard_valkyrie</td>\n      <td>0.28</td>\n    </tr>\n    <tr>\n      <th>0</th>\n      <td>giant_wizard</td>\n      <td>0.25</td>\n    </tr>\n    <tr>\n      <th>0</th>\n      <td>prince_wizard</td>\n      <td>0.23</td>\n    </tr>\n    <tr>\n      <th>0</th>\n      <td>lumberjack_wizard</td>\n      <td>0.20</td>\n    </tr>\n    <tr>\n      <th>0</th>\n      <td>prince_witch</td>\n      <td>0.19</td>\n    </tr>\n    <tr>\n      <th>0</th>\n      <td>giant_giant-skeleton</td>\n      <td>0.18</td>\n    </tr>\n    <tr>\n      <th>0</th>\n      <td>giant_the-log</td>\n      <td>0.16</td>\n    </tr>\n    <tr>\n      <th>0</th>\n      <td>wizard_giant-skeleton</td>\n      <td>0.15</td>\n    </tr>\n    <tr>\n      <th>0</th>\n      <td>wizard_zap</td>\n      <td>0.14</td>\n    </tr>\n    <tr>\n      <th>0</th>\n      <td>the-log_zap</td>\n      <td>0.13</td>\n    </tr>\n    <tr>\n      <th>0</th>\n      <td>skeleton-army_hog-rider</td>\n      <td>0.12</td>\n    </tr>\n    <tr>\n      <th>0</th>\n      <td>giant_tornado</td>\n      <td>0.11</td>\n    </tr>\n    <tr>\n      <th>0</th>\n      <td>lumberjack_witch</td>\n      <td>0.10</td>\n    </tr>\n    <tr>\n      <th>0</th>\n      <td>the-log_lumberjack</td>\n      <td>0.09</td>\n    </tr>\n    <tr>\n      <th>0</th>\n      <td>skeleton-army_zap</td>\n      <td>0.08</td>\n    </tr>\n    <tr>\n      <th>0</th>\n      <td>zap_fireball</td>\n      <td>0.07</td>\n    </tr>\n    <tr>\n      <th>0</th>\n      <td>witch_minion-horde</td>\n      <td>0.06</td>\n    </tr>\n    <tr>\n      <th>0</th>\n      <td>skeleton-army_executioner</td>\n      <td>0.05</td>\n    </tr>\n    <tr>\n      <th>0</th>\n      <td>baby-dragon_bowler</td>\n      <td>0.04</td>\n    </tr>\n    <tr>\n      <th>0</th>\n      <td>valkyrie_mega-knight</td>\n      <td>0.03</td>\n    </tr>\n    <tr>\n      <th>0</th>\n      <td>wizard_tombstone</td>\n      <td>0.02</td>\n    </tr>\n    <tr>\n      <th>0</th>\n      <td>witch_barbarians</td>\n      <td>0.01</td>\n    </tr>\n    <tr>\n      <th>0</th>\n      <td>lumberjack_giant-snowball</td>\n      <td>0.00</td>\n    </tr>\n  </tbody>\n</table>\n</div>"
     },
     "execution_count": 10,
     "metadata": {},
     "output_type": "execute_result"
    }
   ],
   "source": [
    "usage_2 = pd.DataFrame()\n",
    "\n",
    "for new_elem in player_deck:\n",
    "    for elems in usage_1.iloc[:10].card:\n",
    "        df_local = df_jan\n",
    "        if new_elem in elems:\n",
    "            continue\n",
    "        elems = elems.split('_') + [new_elem]\n",
    "        df_local = df_local[df_local[new_elem]]\n",
    "        for elem in elems:\n",
    "            df_local = df_local[df_local[elem]]\n",
    "        usage = len(df_local) / len(df_jan)\n",
    "        usage_2 = pd.concat([usage_2, pd.DataFrame({'card': \"_\".join(elems), 'usage': usage}, index=[0])])\n",
    "\n",
    "usage_2 = usage_2.sort_values('usage', ascending=False)\n",
    "usage_2.drop_duplicates(subset='usage', inplace=True)\n",
    "usage_2"
   ],
   "metadata": {
    "collapsed": false,
    "pycharm": {
     "name": "#%%\n"
    }
   }
  },
  {
   "cell_type": "code",
   "execution_count": 11,
   "outputs": [
    {
     "data": {
      "text/plain": "                           card  usage\n0           prince_wizard_witch   0.19\n0       wizard_valkyrie_the-log   0.15\n0         giant_wizard_valkyrie   0.14\n0          giant_wizard_the-log   0.12\n0       giant_wizard_lumberjack   0.11\n0       giant_wizard_ice-wizard   0.10\n0          prince_wizard_hunter   0.09\n0     lumberjack_wizard_tornado   0.08\n0        prince_wizard_valkyrie   0.07\n0      prince_witch_executioner   0.06\n0            prince_witch_pekka   0.05\n0    prince_witch_skeleton-army   0.04\n0  lumberjack_wizard_royal-hogs   0.03\n0       lumberjack_wizard_pekka   0.02\n0           giant_wizard_freeze   0.01\n0           prince_witch_cannon   0.00",
      "text/html": "<div>\n<style scoped>\n    .dataframe tbody tr th:only-of-type {\n        vertical-align: middle;\n    }\n\n    .dataframe tbody tr th {\n        vertical-align: top;\n    }\n\n    .dataframe thead th {\n        text-align: right;\n    }\n</style>\n<table border=\"1\" class=\"dataframe\">\n  <thead>\n    <tr style=\"text-align: right;\">\n      <th></th>\n      <th>card</th>\n      <th>usage</th>\n    </tr>\n  </thead>\n  <tbody>\n    <tr>\n      <th>0</th>\n      <td>prince_wizard_witch</td>\n      <td>0.19</td>\n    </tr>\n    <tr>\n      <th>0</th>\n      <td>wizard_valkyrie_the-log</td>\n      <td>0.15</td>\n    </tr>\n    <tr>\n      <th>0</th>\n      <td>giant_wizard_valkyrie</td>\n      <td>0.14</td>\n    </tr>\n    <tr>\n      <th>0</th>\n      <td>giant_wizard_the-log</td>\n      <td>0.12</td>\n    </tr>\n    <tr>\n      <th>0</th>\n      <td>giant_wizard_lumberjack</td>\n      <td>0.11</td>\n    </tr>\n    <tr>\n      <th>0</th>\n      <td>giant_wizard_ice-wizard</td>\n      <td>0.10</td>\n    </tr>\n    <tr>\n      <th>0</th>\n      <td>prince_wizard_hunter</td>\n      <td>0.09</td>\n    </tr>\n    <tr>\n      <th>0</th>\n      <td>lumberjack_wizard_tornado</td>\n      <td>0.08</td>\n    </tr>\n    <tr>\n      <th>0</th>\n      <td>prince_wizard_valkyrie</td>\n      <td>0.07</td>\n    </tr>\n    <tr>\n      <th>0</th>\n      <td>prince_witch_executioner</td>\n      <td>0.06</td>\n    </tr>\n    <tr>\n      <th>0</th>\n      <td>prince_witch_pekka</td>\n      <td>0.05</td>\n    </tr>\n    <tr>\n      <th>0</th>\n      <td>prince_witch_skeleton-army</td>\n      <td>0.04</td>\n    </tr>\n    <tr>\n      <th>0</th>\n      <td>lumberjack_wizard_royal-hogs</td>\n      <td>0.03</td>\n    </tr>\n    <tr>\n      <th>0</th>\n      <td>lumberjack_wizard_pekka</td>\n      <td>0.02</td>\n    </tr>\n    <tr>\n      <th>0</th>\n      <td>giant_wizard_freeze</td>\n      <td>0.01</td>\n    </tr>\n    <tr>\n      <th>0</th>\n      <td>prince_witch_cannon</td>\n      <td>0.00</td>\n    </tr>\n  </tbody>\n</table>\n</div>"
     },
     "execution_count": 11,
     "metadata": {},
     "output_type": "execute_result"
    }
   ],
   "source": [
    "usage_3 = pd.DataFrame()\n",
    "\n",
    "for new_elem in player_deck:\n",
    "    for elems in usage_2.iloc[:5].card:\n",
    "        df_local = df_jan\n",
    "        if new_elem in elems:\n",
    "            continue\n",
    "        elems = elems.split('_') + [new_elem]\n",
    "        df_local = df_local[df_local[new_elem]]\n",
    "        for elem in elems:\n",
    "            df_local = df_local[df_local[elem]]\n",
    "        usage = len(df_local) / len(df_jan)\n",
    "        usage_3 = pd.concat([usage_3, pd.DataFrame({'card': \"_\".join(elems), 'usage': usage}, index=[0])])\n",
    "\n",
    "usage_3 = usage_3.sort_values('usage', ascending=False)\n",
    "usage_3.drop_duplicates(subset='usage', inplace=True)\n",
    "usage_3"
   ],
   "metadata": {
    "collapsed": false,
    "pycharm": {
     "name": "#%%\n"
    }
   }
  },
  {
   "cell_type": "code",
   "execution_count": 12,
   "outputs": [
    {
     "data": {
      "text/plain": "                                    card  usage\n0        prince_wizard_witch_baby-dragon   0.12\n0          giant_wizard_the-log_valkyrie   0.10\n0             prince_wizard_witch_hunter   0.09\n0     giant_wizard_lumberjack_ice-wizard   0.08\n0     wizard_valkyrie_the-log_ice-wizard   0.07\n0           giant_wizard_the-log_tornado   0.06\n0          giant_wizard_valkyrie_tornado   0.05\n0  wizard_valkyrie_the-log_skeleton-army   0.04\n0             giant_wizard_the-log_miner   0.03\n0       prince_wizard_witch_minion-horde   0.02\n0            giant_wizard_the-log_bowler   0.01\n0   wizard_valkyrie_the-log_goblin-giant   0.00",
      "text/html": "<div>\n<style scoped>\n    .dataframe tbody tr th:only-of-type {\n        vertical-align: middle;\n    }\n\n    .dataframe tbody tr th {\n        vertical-align: top;\n    }\n\n    .dataframe thead th {\n        text-align: right;\n    }\n</style>\n<table border=\"1\" class=\"dataframe\">\n  <thead>\n    <tr style=\"text-align: right;\">\n      <th></th>\n      <th>card</th>\n      <th>usage</th>\n    </tr>\n  </thead>\n  <tbody>\n    <tr>\n      <th>0</th>\n      <td>prince_wizard_witch_baby-dragon</td>\n      <td>0.12</td>\n    </tr>\n    <tr>\n      <th>0</th>\n      <td>giant_wizard_the-log_valkyrie</td>\n      <td>0.10</td>\n    </tr>\n    <tr>\n      <th>0</th>\n      <td>prince_wizard_witch_hunter</td>\n      <td>0.09</td>\n    </tr>\n    <tr>\n      <th>0</th>\n      <td>giant_wizard_lumberjack_ice-wizard</td>\n      <td>0.08</td>\n    </tr>\n    <tr>\n      <th>0</th>\n      <td>wizard_valkyrie_the-log_ice-wizard</td>\n      <td>0.07</td>\n    </tr>\n    <tr>\n      <th>0</th>\n      <td>giant_wizard_the-log_tornado</td>\n      <td>0.06</td>\n    </tr>\n    <tr>\n      <th>0</th>\n      <td>giant_wizard_valkyrie_tornado</td>\n      <td>0.05</td>\n    </tr>\n    <tr>\n      <th>0</th>\n      <td>wizard_valkyrie_the-log_skeleton-army</td>\n      <td>0.04</td>\n    </tr>\n    <tr>\n      <th>0</th>\n      <td>giant_wizard_the-log_miner</td>\n      <td>0.03</td>\n    </tr>\n    <tr>\n      <th>0</th>\n      <td>prince_wizard_witch_minion-horde</td>\n      <td>0.02</td>\n    </tr>\n    <tr>\n      <th>0</th>\n      <td>giant_wizard_the-log_bowler</td>\n      <td>0.01</td>\n    </tr>\n    <tr>\n      <th>0</th>\n      <td>wizard_valkyrie_the-log_goblin-giant</td>\n      <td>0.00</td>\n    </tr>\n  </tbody>\n</table>\n</div>"
     },
     "execution_count": 12,
     "metadata": {},
     "output_type": "execute_result"
    }
   ],
   "source": [
    "usage_4 = pd.DataFrame()\n",
    "\n",
    "for new_elem in player_deck:\n",
    "    for elems in usage_3.iloc[:5].card:\n",
    "        df_local = df_jan\n",
    "        if new_elem in elems:\n",
    "            continue\n",
    "        elems = elems.split('_') + [new_elem]\n",
    "        df_local = df_local[df_local[new_elem]]\n",
    "        for elem in elems:\n",
    "            df_local = df_local[df_local[elem]]\n",
    "        usage = len(df_local) / len(df_jan)\n",
    "        usage_4 = pd.concat([usage_4, pd.DataFrame({'card': \"_\".join(elems), 'usage': usage}, index=[0])])\n",
    "\n",
    "usage_4 = usage_4.sort_values('usage', ascending=False)\n",
    "usage_4.drop_duplicates(subset='usage', inplace=True)\n",
    "usage_4"
   ],
   "metadata": {
    "collapsed": false,
    "pycharm": {
     "name": "#%%\n"
    }
   }
  },
  {
   "cell_type": "code",
   "execution_count": 13,
   "outputs": [
    {
     "data": {
      "text/plain": "                                              card  usage\n0           prince_wizard_witch_baby-dragon_hunter   0.09\n0       giant_wizard_lumberjack_ice-wizard_tornado   0.08\n0       wizard_valkyrie_the-log_ice-wizard_tornado   0.05\n0      prince_wizard_witch_baby-dragon_executioner   0.04\n0        giant_wizard_the-log_valkyrie_dart-goblin   0.03\n0      wizard_valkyrie_the-log_ice-wizard_fireball   0.02\n0             prince_wizard_witch_hunter_graveyard   0.01\n0  wizard_valkyrie_the-log_ice-wizard_fire-spirits   0.00",
      "text/html": "<div>\n<style scoped>\n    .dataframe tbody tr th:only-of-type {\n        vertical-align: middle;\n    }\n\n    .dataframe tbody tr th {\n        vertical-align: top;\n    }\n\n    .dataframe thead th {\n        text-align: right;\n    }\n</style>\n<table border=\"1\" class=\"dataframe\">\n  <thead>\n    <tr style=\"text-align: right;\">\n      <th></th>\n      <th>card</th>\n      <th>usage</th>\n    </tr>\n  </thead>\n  <tbody>\n    <tr>\n      <th>0</th>\n      <td>prince_wizard_witch_baby-dragon_hunter</td>\n      <td>0.09</td>\n    </tr>\n    <tr>\n      <th>0</th>\n      <td>giant_wizard_lumberjack_ice-wizard_tornado</td>\n      <td>0.08</td>\n    </tr>\n    <tr>\n      <th>0</th>\n      <td>wizard_valkyrie_the-log_ice-wizard_tornado</td>\n      <td>0.05</td>\n    </tr>\n    <tr>\n      <th>0</th>\n      <td>prince_wizard_witch_baby-dragon_executioner</td>\n      <td>0.04</td>\n    </tr>\n    <tr>\n      <th>0</th>\n      <td>giant_wizard_the-log_valkyrie_dart-goblin</td>\n      <td>0.03</td>\n    </tr>\n    <tr>\n      <th>0</th>\n      <td>wizard_valkyrie_the-log_ice-wizard_fireball</td>\n      <td>0.02</td>\n    </tr>\n    <tr>\n      <th>0</th>\n      <td>prince_wizard_witch_hunter_graveyard</td>\n      <td>0.01</td>\n    </tr>\n    <tr>\n      <th>0</th>\n      <td>wizard_valkyrie_the-log_ice-wizard_fire-spirits</td>\n      <td>0.00</td>\n    </tr>\n  </tbody>\n</table>\n</div>"
     },
     "execution_count": 13,
     "metadata": {},
     "output_type": "execute_result"
    }
   ],
   "source": [
    "usage_5 = pd.DataFrame()\n",
    "\n",
    "for new_elem in player_deck:\n",
    "    for elems in usage_4.iloc[:5].card:\n",
    "        df_local = df_jan\n",
    "        if new_elem in elems:\n",
    "            continue\n",
    "        elems = elems.split('_') + [new_elem]\n",
    "        df_local = df_local[df_local[new_elem]]\n",
    "        for elem in elems:\n",
    "            df_local = df_local[df_local[elem]]\n",
    "        usage = len(df_local) / len(df_jan)\n",
    "        usage_5 = pd.concat([usage_5, pd.DataFrame({'card': \"_\".join(elems), 'usage': usage}, index=[0])])\n",
    "\n",
    "usage_5 = usage_5.sort_values('usage', ascending=False)\n",
    "usage_5.drop_duplicates(subset='usage', inplace=True)\n",
    "usage_5"
   ],
   "metadata": {
    "collapsed": false,
    "pycharm": {
     "name": "#%%\n"
    }
   }
  },
  {
   "cell_type": "code",
   "execution_count": 13,
   "outputs": [
    {
     "data": {
      "text/plain": "                card  win_ratio     usage\n0        goblin-gang   0.521111  0.154237\n0   elite-barbarians   0.519560  0.101614\n0         barbarians   0.518708  0.127058\n0                zap   0.516569  0.319740\n0     electro-wizard   0.515986  0.144399\n..               ...        ...       ...\n0         royal-hogs   0.473018  0.019120\n0          ice-golem   0.472495  0.035234\n0      barbarian-hut   0.464237  0.013065\n0          skeletons   0.458574  0.024875\n0              x-bow   0.455362  0.019447\n\n[81 rows x 3 columns]",
      "text/html": "<div>\n<style scoped>\n    .dataframe tbody tr th:only-of-type {\n        vertical-align: middle;\n    }\n\n    .dataframe tbody tr th {\n        vertical-align: top;\n    }\n\n    .dataframe thead th {\n        text-align: right;\n    }\n</style>\n<table border=\"1\" class=\"dataframe\">\n  <thead>\n    <tr style=\"text-align: right;\">\n      <th></th>\n      <th>card</th>\n      <th>win_ratio</th>\n      <th>usage</th>\n    </tr>\n  </thead>\n  <tbody>\n    <tr>\n      <th>0</th>\n      <td>goblin-gang</td>\n      <td>0.521111</td>\n      <td>0.154237</td>\n    </tr>\n    <tr>\n      <th>0</th>\n      <td>elite-barbarians</td>\n      <td>0.519560</td>\n      <td>0.101614</td>\n    </tr>\n    <tr>\n      <th>0</th>\n      <td>barbarians</td>\n      <td>0.518708</td>\n      <td>0.127058</td>\n    </tr>\n    <tr>\n      <th>0</th>\n      <td>zap</td>\n      <td>0.516569</td>\n      <td>0.319740</td>\n    </tr>\n    <tr>\n      <th>0</th>\n      <td>electro-wizard</td>\n      <td>0.515986</td>\n      <td>0.144399</td>\n    </tr>\n    <tr>\n      <th>...</th>\n      <td>...</td>\n      <td>...</td>\n      <td>...</td>\n    </tr>\n    <tr>\n      <th>0</th>\n      <td>royal-hogs</td>\n      <td>0.473018</td>\n      <td>0.019120</td>\n    </tr>\n    <tr>\n      <th>0</th>\n      <td>ice-golem</td>\n      <td>0.472495</td>\n      <td>0.035234</td>\n    </tr>\n    <tr>\n      <th>0</th>\n      <td>barbarian-hut</td>\n      <td>0.464237</td>\n      <td>0.013065</td>\n    </tr>\n    <tr>\n      <th>0</th>\n      <td>skeletons</td>\n      <td>0.458574</td>\n      <td>0.024875</td>\n    </tr>\n    <tr>\n      <th>0</th>\n      <td>x-bow</td>\n      <td>0.455362</td>\n      <td>0.019447</td>\n    </tr>\n  </tbody>\n</table>\n<p>81 rows × 3 columns</p>\n</div>"
     },
     "execution_count": 13,
     "metadata": {},
     "output_type": "execute_result"
    }
   ],
   "source": [
    "importance = pd.DataFrame()\n",
    "for elem in player_deck:\n",
    "    win_ratio = df[df[elem]][\"has_won\"].mean()\n",
    "    usage = len(df[df[elem]]) / len(df)\n",
    "    importance = pd.concat([importance, pd.DataFrame({'card': elem, 'win_ratio': win_ratio, 'usage': usage}, index=[0])])\n",
    "\n",
    "importance = importance[importance.usage > .01]\n",
    "importance.sort_values('win_ratio', ascending=False)"
   ],
   "metadata": {
    "collapsed": false,
    "pycharm": {
     "name": "#%%\n"
    }
   }
  },
  {
   "cell_type": "code",
   "execution_count": 15,
   "outputs": [
    {
     "data": {
      "text/plain": "                            card  win_ratio  usage\n0   night-witch_elite-barbarians   1.000000  0.070\n0             furnace_lumberjack   0.875000  0.204\n0         night-witch_battle-ram   0.833333  0.055\n0                  poison_bandit   0.818182  0.079\n0       lava-hound_inferno-tower   0.812500  0.122\n..                           ...        ...    ...\n0              mirror_ice-spirit   0.250000  0.052\n0             furnace_goblin-hut   0.214286  0.017\n0        knight_three-musketeers   0.166667  0.021\n0   spear-goblins_inferno-dragon   0.000000  0.150\n0           spear-goblins_mirror        NaN  0.040\n\n[189 rows x 3 columns]",
      "text/html": "<div>\n<style scoped>\n    .dataframe tbody tr th:only-of-type {\n        vertical-align: middle;\n    }\n\n    .dataframe tbody tr th {\n        vertical-align: top;\n    }\n\n    .dataframe thead th {\n        text-align: right;\n    }\n</style>\n<table border=\"1\" class=\"dataframe\">\n  <thead>\n    <tr style=\"text-align: right;\">\n      <th></th>\n      <th>card</th>\n      <th>win_ratio</th>\n      <th>usage</th>\n    </tr>\n  </thead>\n  <tbody>\n    <tr>\n      <th>0</th>\n      <td>night-witch_elite-barbarians</td>\n      <td>1.000000</td>\n      <td>0.070</td>\n    </tr>\n    <tr>\n      <th>0</th>\n      <td>furnace_lumberjack</td>\n      <td>0.875000</td>\n      <td>0.204</td>\n    </tr>\n    <tr>\n      <th>0</th>\n      <td>night-witch_battle-ram</td>\n      <td>0.833333</td>\n      <td>0.055</td>\n    </tr>\n    <tr>\n      <th>0</th>\n      <td>poison_bandit</td>\n      <td>0.818182</td>\n      <td>0.079</td>\n    </tr>\n    <tr>\n      <th>0</th>\n      <td>lava-hound_inferno-tower</td>\n      <td>0.812500</td>\n      <td>0.122</td>\n    </tr>\n    <tr>\n      <th>...</th>\n      <td>...</td>\n      <td>...</td>\n      <td>...</td>\n    </tr>\n    <tr>\n      <th>0</th>\n      <td>mirror_ice-spirit</td>\n      <td>0.250000</td>\n      <td>0.052</td>\n    </tr>\n    <tr>\n      <th>0</th>\n      <td>furnace_goblin-hut</td>\n      <td>0.214286</td>\n      <td>0.017</td>\n    </tr>\n    <tr>\n      <th>0</th>\n      <td>knight_three-musketeers</td>\n      <td>0.166667</td>\n      <td>0.021</td>\n    </tr>\n    <tr>\n      <th>0</th>\n      <td>spear-goblins_inferno-dragon</td>\n      <td>0.000000</td>\n      <td>0.150</td>\n    </tr>\n    <tr>\n      <th>0</th>\n      <td>spear-goblins_mirror</td>\n      <td>NaN</td>\n      <td>0.040</td>\n    </tr>\n  </tbody>\n</table>\n<p>189 rows × 3 columns</p>\n</div>"
     },
     "execution_count": 15,
     "metadata": {},
     "output_type": "execute_result"
    }
   ],
   "source": [
    "importance_2 = pd.DataFrame()\n",
    "\n",
    "for new_elem in player_deck:\n",
    "    for elems in importance.iloc[:10].card:\n",
    "        if new_elem in elems:\n",
    "            continue\n",
    "        elems = elems.split('_') + [new_elem]\n",
    "        df_local = df[df[new_elem]]\n",
    "        for elem in elems:\n",
    "            df_local = df_local[df_local[elem]]\n",
    "        win_ratio = df_local[\"has_won\"].mean()\n",
    "        usage = len(df[df[elem]]) / len(df)\n",
    "        importance_2 = pd.concat([importance_2, pd.DataFrame({'card': \"_\".join(elems), 'win_ratio': win_ratio, 'usage': usage}, index=[0])])\n",
    "\n",
    "importance_2 = importance_2.sort_values('win_ratio', ascending=False)\n",
    "importance_2.drop_duplicates(subset='win_ratio', inplace=True)\n",
    "importance_2 = importance_2[importance_2.usage > .01]\n",
    "importance_2"
   ],
   "metadata": {
    "collapsed": false,
    "pycharm": {
     "name": "#%%\n"
    }
   }
  },
  {
   "cell_type": "code",
   "execution_count": 16,
   "outputs": [
    {
     "data": {
      "text/plain": "                                 card  win_ratio  usage\n0            furnace_lumberjack_witch   1.000000  0.317\n0          spear-goblins_witch_prince   0.900000  0.349\n0            poison_battle-ram_arrows   0.833333  0.149\n0        poison_bandit_electro-wizard   0.818182  0.144\n0           furnace_lumberjack_arrows   0.800000  0.149\n0           poison_battle-ram_minions   0.777778  0.100\n0             poison_golem_lumberjack   0.750000  0.204\n0  lava-hound_inferno-tower_musketeer   0.625000  0.120\n0           spear-goblins_witch_pekka   0.500000  0.183\n0        witch_elixir-collector_giant   0.000000  0.224\n0                 poison_bandit_witch        NaN  0.317",
      "text/html": "<div>\n<style scoped>\n    .dataframe tbody tr th:only-of-type {\n        vertical-align: middle;\n    }\n\n    .dataframe tbody tr th {\n        vertical-align: top;\n    }\n\n    .dataframe thead th {\n        text-align: right;\n    }\n</style>\n<table border=\"1\" class=\"dataframe\">\n  <thead>\n    <tr style=\"text-align: right;\">\n      <th></th>\n      <th>card</th>\n      <th>win_ratio</th>\n      <th>usage</th>\n    </tr>\n  </thead>\n  <tbody>\n    <tr>\n      <th>0</th>\n      <td>furnace_lumberjack_witch</td>\n      <td>1.000000</td>\n      <td>0.317</td>\n    </tr>\n    <tr>\n      <th>0</th>\n      <td>spear-goblins_witch_prince</td>\n      <td>0.900000</td>\n      <td>0.349</td>\n    </tr>\n    <tr>\n      <th>0</th>\n      <td>poison_battle-ram_arrows</td>\n      <td>0.833333</td>\n      <td>0.149</td>\n    </tr>\n    <tr>\n      <th>0</th>\n      <td>poison_bandit_electro-wizard</td>\n      <td>0.818182</td>\n      <td>0.144</td>\n    </tr>\n    <tr>\n      <th>0</th>\n      <td>furnace_lumberjack_arrows</td>\n      <td>0.800000</td>\n      <td>0.149</td>\n    </tr>\n    <tr>\n      <th>0</th>\n      <td>poison_battle-ram_minions</td>\n      <td>0.777778</td>\n      <td>0.100</td>\n    </tr>\n    <tr>\n      <th>0</th>\n      <td>poison_golem_lumberjack</td>\n      <td>0.750000</td>\n      <td>0.204</td>\n    </tr>\n    <tr>\n      <th>0</th>\n      <td>lava-hound_inferno-tower_musketeer</td>\n      <td>0.625000</td>\n      <td>0.120</td>\n    </tr>\n    <tr>\n      <th>0</th>\n      <td>spear-goblins_witch_pekka</td>\n      <td>0.500000</td>\n      <td>0.183</td>\n    </tr>\n    <tr>\n      <th>0</th>\n      <td>witch_elixir-collector_giant</td>\n      <td>0.000000</td>\n      <td>0.224</td>\n    </tr>\n    <tr>\n      <th>0</th>\n      <td>poison_bandit_witch</td>\n      <td>NaN</td>\n      <td>0.317</td>\n    </tr>\n  </tbody>\n</table>\n</div>"
     },
     "execution_count": 16,
     "metadata": {},
     "output_type": "execute_result"
    }
   ],
   "source": [
    "importance_3 = pd.DataFrame()\n",
    "\n",
    "for new_elem in player_deck:\n",
    "    for elems in importance_2.iloc[:10].card:\n",
    "        if new_elem in elems:\n",
    "            continue\n",
    "        elems = elems.split('_') + [new_elem]\n",
    "        df_local = df[df[new_elem]]\n",
    "        for elem in elems:\n",
    "            df_local = df_local[df_local[elem]]\n",
    "        win_ratio = df_local[\"has_won\"].mean()\n",
    "        usage = len(df[df[elem]]) / len(df)\n",
    "        importance_3 = pd.concat([importance_3, pd.DataFrame({'card': \"_\".join(elems), 'win_ratio': win_ratio, 'usage': usage}, index=[0])])\n",
    "\n",
    "importance_3 = importance_3.sort_values('win_ratio', ascending=False)\n",
    "importance_3.drop_duplicates(subset='win_ratio', inplace=True)\n",
    "importance_3 = importance_3[importance_3.usage > .01]\n",
    "importance_3"
   ],
   "metadata": {
    "collapsed": false,
    "pycharm": {
     "name": "#%%\n"
    }
   }
  },
  {
   "cell_type": "code",
   "execution_count": 17,
   "outputs": [
    {
     "data": {
      "text/plain": "                                             card  win_ratio  usage\n0                  spear-goblins_witch_prince_zap   1.000000  0.345\n0                  poison_battle-ram_arrows_witch   0.833333  0.317\n0                poison_bandit_electro-wizard_zap   0.818182  0.345\n0        furnace_lumberjack_arrows_inferno-dragon   0.800000  0.150\n0        poison_bandit_electro-wizard_royal-ghost   0.777778  0.052\n0              spear-goblins_witch_prince_balloon   0.750000  0.186\n0             poison_golem_lumberjack_night-witch   0.666667  0.072\n0  lava-hound_inferno-tower_musketeer_baby-dragon   0.625000  0.222\n0                spear-goblins_witch_pekka_bomber   0.500000  0.049\n0        witch_elixir-collector_giant_royal-giant   0.000000  0.029\n0              poison_bandit_electro-wizard_witch        NaN  0.317",
      "text/html": "<div>\n<style scoped>\n    .dataframe tbody tr th:only-of-type {\n        vertical-align: middle;\n    }\n\n    .dataframe tbody tr th {\n        vertical-align: top;\n    }\n\n    .dataframe thead th {\n        text-align: right;\n    }\n</style>\n<table border=\"1\" class=\"dataframe\">\n  <thead>\n    <tr style=\"text-align: right;\">\n      <th></th>\n      <th>card</th>\n      <th>win_ratio</th>\n      <th>usage</th>\n    </tr>\n  </thead>\n  <tbody>\n    <tr>\n      <th>0</th>\n      <td>spear-goblins_witch_prince_zap</td>\n      <td>1.000000</td>\n      <td>0.345</td>\n    </tr>\n    <tr>\n      <th>0</th>\n      <td>poison_battle-ram_arrows_witch</td>\n      <td>0.833333</td>\n      <td>0.317</td>\n    </tr>\n    <tr>\n      <th>0</th>\n      <td>poison_bandit_electro-wizard_zap</td>\n      <td>0.818182</td>\n      <td>0.345</td>\n    </tr>\n    <tr>\n      <th>0</th>\n      <td>furnace_lumberjack_arrows_inferno-dragon</td>\n      <td>0.800000</td>\n      <td>0.150</td>\n    </tr>\n    <tr>\n      <th>0</th>\n      <td>poison_bandit_electro-wizard_royal-ghost</td>\n      <td>0.777778</td>\n      <td>0.052</td>\n    </tr>\n    <tr>\n      <th>0</th>\n      <td>spear-goblins_witch_prince_balloon</td>\n      <td>0.750000</td>\n      <td>0.186</td>\n    </tr>\n    <tr>\n      <th>0</th>\n      <td>poison_golem_lumberjack_night-witch</td>\n      <td>0.666667</td>\n      <td>0.072</td>\n    </tr>\n    <tr>\n      <th>0</th>\n      <td>lava-hound_inferno-tower_musketeer_baby-dragon</td>\n      <td>0.625000</td>\n      <td>0.222</td>\n    </tr>\n    <tr>\n      <th>0</th>\n      <td>spear-goblins_witch_pekka_bomber</td>\n      <td>0.500000</td>\n      <td>0.049</td>\n    </tr>\n    <tr>\n      <th>0</th>\n      <td>witch_elixir-collector_giant_royal-giant</td>\n      <td>0.000000</td>\n      <td>0.029</td>\n    </tr>\n    <tr>\n      <th>0</th>\n      <td>poison_bandit_electro-wizard_witch</td>\n      <td>NaN</td>\n      <td>0.317</td>\n    </tr>\n  </tbody>\n</table>\n</div>"
     },
     "execution_count": 17,
     "metadata": {},
     "output_type": "execute_result"
    }
   ],
   "source": [
    "importance_4 = pd.DataFrame()\n",
    "\n",
    "for new_elem in player_deck:\n",
    "    for elems in importance_3.iloc[:10].card:\n",
    "        if new_elem in elems:\n",
    "            continue\n",
    "        elems = elems.split('_') + [new_elem]\n",
    "        df_local = df[df[new_elem]]\n",
    "        for elem in elems:\n",
    "            df_local = df_local[df_local[elem]]\n",
    "        win_ratio = df_local[\"has_won\"].mean()\n",
    "        usage = len(df[df[elem]]) / len(df)\n",
    "        importance_4 = pd.concat([importance_4, pd.DataFrame({'card': \"_\".join(elems), 'win_ratio': win_ratio, 'usage': usage}, index=[0])])\n",
    "\n",
    "importance_4 = importance_4.sort_values('win_ratio', ascending=False)\n",
    "importance_4.drop_duplicates(subset='win_ratio', inplace=True)\n",
    "importance_4 = importance_4[importance_4.usage > .01]\n",
    "importance_4"
   ],
   "metadata": {
    "collapsed": false,
    "pycharm": {
     "name": "#%%\n"
    }
   }
  },
  {
   "cell_type": "code",
   "execution_count": 18,
   "outputs": [
    {
     "data": {
      "text/plain": "                                                card  win_ratio  usage\n0     furnace_lumberjack_arrows_inferno-dragon_witch   1.000000  0.317\n0       poison_battle-ram_arrows_witch_skeleton-army   0.833333  0.307\n0             poison_bandit_electro-wizard_zap_pekka   0.818182  0.183\n0     poison_bandit_electro-wizard_royal-ghost_pekka   0.777778  0.183\n0  spear-goblins_witch_prince_balloon_giant-skeleton   0.750000  0.129\n0  furnace_lumberjack_arrows_inferno-dragon_gobli...   0.666667  0.109\n0  lava-hound_inferno-tower_musketeer_baby-dragon...   0.625000  0.160\n0        spear-goblins_witch_pekka_bomber_mini-pekka   0.500000  0.089\n0    witch_elixir-collector_giant_royal-giant_wizard   0.000000  0.600\n0             poison_bandit_electro-wizard_zap_witch        NaN  0.317",
      "text/html": "<div>\n<style scoped>\n    .dataframe tbody tr th:only-of-type {\n        vertical-align: middle;\n    }\n\n    .dataframe tbody tr th {\n        vertical-align: top;\n    }\n\n    .dataframe thead th {\n        text-align: right;\n    }\n</style>\n<table border=\"1\" class=\"dataframe\">\n  <thead>\n    <tr style=\"text-align: right;\">\n      <th></th>\n      <th>card</th>\n      <th>win_ratio</th>\n      <th>usage</th>\n    </tr>\n  </thead>\n  <tbody>\n    <tr>\n      <th>0</th>\n      <td>furnace_lumberjack_arrows_inferno-dragon_witch</td>\n      <td>1.000000</td>\n      <td>0.317</td>\n    </tr>\n    <tr>\n      <th>0</th>\n      <td>poison_battle-ram_arrows_witch_skeleton-army</td>\n      <td>0.833333</td>\n      <td>0.307</td>\n    </tr>\n    <tr>\n      <th>0</th>\n      <td>poison_bandit_electro-wizard_zap_pekka</td>\n      <td>0.818182</td>\n      <td>0.183</td>\n    </tr>\n    <tr>\n      <th>0</th>\n      <td>poison_bandit_electro-wizard_royal-ghost_pekka</td>\n      <td>0.777778</td>\n      <td>0.183</td>\n    </tr>\n    <tr>\n      <th>0</th>\n      <td>spear-goblins_witch_prince_balloon_giant-skeleton</td>\n      <td>0.750000</td>\n      <td>0.129</td>\n    </tr>\n    <tr>\n      <th>0</th>\n      <td>furnace_lumberjack_arrows_inferno-dragon_gobli...</td>\n      <td>0.666667</td>\n      <td>0.109</td>\n    </tr>\n    <tr>\n      <th>0</th>\n      <td>lava-hound_inferno-tower_musketeer_baby-dragon...</td>\n      <td>0.625000</td>\n      <td>0.160</td>\n    </tr>\n    <tr>\n      <th>0</th>\n      <td>spear-goblins_witch_pekka_bomber_mini-pekka</td>\n      <td>0.500000</td>\n      <td>0.089</td>\n    </tr>\n    <tr>\n      <th>0</th>\n      <td>witch_elixir-collector_giant_royal-giant_wizard</td>\n      <td>0.000000</td>\n      <td>0.600</td>\n    </tr>\n    <tr>\n      <th>0</th>\n      <td>poison_bandit_electro-wizard_zap_witch</td>\n      <td>NaN</td>\n      <td>0.317</td>\n    </tr>\n  </tbody>\n</table>\n</div>"
     },
     "execution_count": 18,
     "metadata": {},
     "output_type": "execute_result"
    }
   ],
   "source": [
    "importance_5 = pd.DataFrame()\n",
    "\n",
    "for new_elem in player_deck:\n",
    "    for elems in importance_4.iloc[:10].card:\n",
    "        if new_elem in elems:\n",
    "            continue\n",
    "        elems = elems.split('_') + [new_elem]\n",
    "        df_local = df[df[new_elem]]\n",
    "        for elem in elems:\n",
    "            df_local = df_local[df_local[elem]]\n",
    "        win_ratio = df_local[\"has_won\"].mean()\n",
    "        usage = len(df[df[elem]]) / len(df)\n",
    "        importance_5 = pd.concat([importance_5, pd.DataFrame({'card': \"_\".join(elems), 'win_ratio': win_ratio, 'usage': usage}, index=[0])])\n",
    "\n",
    "importance_5 = importance_5.sort_values('win_ratio', ascending=False)\n",
    "importance_5.drop_duplicates(subset='win_ratio', inplace=True)\n",
    "importance_5 = importance_5[importance_5.usage > .01]\n",
    "importance_5"
   ],
   "metadata": {
    "collapsed": false,
    "pycharm": {
     "name": "#%%\n"
    }
   }
  },
  {
   "cell_type": "code",
   "execution_count": 25,
   "outputs": [
    {
     "data": {
      "text/plain": "<Figure size 432x288 with 1 Axes>",
      "image/png": "[encoded data removed]"
     },
     "metadata": {
      "needs_background": "light"
     },
     "output_type": "display_data"
    }
   ],
   "source": [
    "daily_mean = df.iloc[:100000].groupby(df.timestamp.map(lambda x: x[:10])).mean()\n",
    "std = daily_mean.std().iloc[2:]\n",
    "up = std.sort_values(ascending=True).index[:3].values.tolist()\n",
    "down = std.sort_values(ascending=False).index[:3].values.tolist()\n",
    "for card in up + down:\n",
    "    daily_mean[card].rolling(1).mean().plot()\n",
    "plt.legend()\n",
    "plt.show()"
   ],
   "metadata": {
    "collapsed": false,
    "pycharm": {
     "name": "#%%\n"
    }
   }
  },
  {
   "cell_type": "markdown",
   "source": [],
   "metadata": {
    "collapsed": false
   }
  },
  {
   "cell_type": "code",
   "execution_count": 10,
   "outputs": [
    {
     "data": {
      "text/plain": "<Figure size 432x288 with 1 Axes>",
      "image/png": "[encoded data removed]"
     },
     "metadata": {
      "needs_background": "light"
     },
     "output_type": "display_data"
    }
   ],
   "source": [
    "stds = pd.DataFrame()\n",
    "\n",
    "for elem in importance.card.iloc[:20]:\n",
    "    daily_mean = df[['has_won', 'timestamp', elem]][df[elem]].groupby(df.timestamp.map(lambda x: x[:10])).has_won.mean()\n",
    "    std = daily_mean.std()\n",
    "    stds = pd.concat([stds, pd.DataFrame({'std': std, 'card': elem}, index=[0])])\n",
    "\n",
    "stds_small = stds.sort_values(by='std', ascending=True).iloc[:4].card.values.tolist()\n",
    "stds_big = stds.sort_values(by='std', ascending=False).iloc[:4].card.values.tolist()\n",
    "\n",
    "for elem in stds_small + stds_big:\n",
    "    daily_mean = df[['has_won', 'timestamp', elem]][df[elem]].groupby(df.timestamp.map(lambda x: x[:10])).has_won.mean()\n",
    "    daily_mean.rolling(10).mean().plot(label=elem)\n",
    "plt.legend()\n",
    "plt.show()"
   ],
   "metadata": {
    "collapsed": false,
    "pycharm": {
     "name": "#%%\n"
    }
   }
  },
  {
   "cell_type": "code",
   "execution_count": 11,
   "outputs": [
    {
     "data": {
      "text/plain": "arena_id         usage_1   usage_2   usage_3   usage_4   usage_5   usage_6  \\\ncard                                                                         \ninferno-tower   0.007437  0.002894  0.026471  0.110739  0.093359  0.082480   \nwitch           0.367134  0.555069  0.643124  0.643567  0.576800  0.527084   \nvalkyrie        0.043907  0.342715  0.365461  0.362844  0.361000  0.379194   \nmortar          0.001716  0.000952  0.001177  0.002043  0.007632  0.013040   \ngiant-skeleton  0.007723  0.178079  0.237554  0.184249  0.169406  0.155167   \n\narena_id         usage_7   usage_8   usage_9  usage_10  ...     win_4  \\\ncard                                                    ...             \ninferno-tower   0.091807  0.099581  0.108142  0.110708  ...  0.057870   \nwitch           0.466527  0.421730  0.373787  0.323619  ...  0.367493   \nvalkyrie        0.363800  0.357006  0.353519  0.337022  ...  0.214769   \nmortar          0.007344  0.006705  0.007925  0.008768  ...  0.000951   \ngiant-skeleton  0.155398  0.150165  0.147533  0.133161  ...  0.105438   \n\narena_id           win_5     win_6     win_7     win_8     win_9    win_10  \\\ncard                                                                         \ninferno-tower   0.050657  0.045007  0.051658  0.056046  0.061113  0.062279   \nwitch           0.322633  0.290564  0.259158  0.232382  0.204365  0.175488   \nvalkyrie        0.207137  0.212871  0.205398  0.200810  0.198242  0.187108   \nmortar          0.003195  0.005382  0.003134  0.002905  0.003630  0.004260   \ngiant-skeleton  0.096422  0.087696  0.088831  0.085329  0.083448  0.074179   \n\narena_id          win_11    win_12    win_13  \ncard                                          \ninferno-tower   0.063850  0.065215  0.057710  \nwitch           0.151950  0.137853  0.116495  \nvalkyrie        0.176937  0.172907  0.145173  \nmortar          0.005521  0.007227  0.009976  \ngiant-skeleton  0.069259  0.061679  0.039606  \n\n[5 rows x 26 columns]",
      "text/html": "<div>\n<style scoped>\n    .dataframe tbody tr th:only-of-type {\n        vertical-align: middle;\n    }\n\n    .dataframe tbody tr th {\n        vertical-align: top;\n    }\n\n    .dataframe thead th {\n        text-align: right;\n    }\n</style>\n<table border=\"1\" class=\"dataframe\">\n  <thead>\n    <tr style=\"text-align: right;\">\n      <th>arena_id</th>\n      <th>usage_1</th>\n      <th>usage_2</th>\n      <th>usage_3</th>\n      <th>usage_4</th>\n      <th>usage_5</th>\n      <th>usage_6</th>\n      <th>usage_7</th>\n      <th>usage_8</th>\n      <th>usage_9</th>\n      <th>usage_10</th>\n      <th>...</th>\n      <th>win_4</th>\n      <th>win_5</th>\n      <th>win_6</th>\n      <th>win_7</th>\n      <th>win_8</th>\n      <th>win_9</th>\n      <th>win_10</th>\n      <th>win_11</th>\n      <th>win_12</th>\n      <th>win_13</th>\n    </tr>\n    <tr>\n      <th>card</th>\n      <th></th>\n      <th></th>\n      <th></th>\n      <th></th>\n      <th></th>\n      <th></th>\n      <th></th>\n      <th></th>\n      <th></th>\n      <th></th>\n      <th></th>\n      <th></th>\n      <th></th>\n      <th></th>\n      <th></th>\n      <th></th>\n      <th></th>\n      <th></th>\n      <th></th>\n      <th></th>\n      <th></th>\n    </tr>\n  </thead>\n  <tbody>\n    <tr>\n      <th>inferno-tower</th>\n      <td>0.007437</td>\n      <td>0.002894</td>\n      <td>0.026471</td>\n      <td>0.110739</td>\n      <td>0.093359</td>\n      <td>0.082480</td>\n      <td>0.091807</td>\n      <td>0.099581</td>\n      <td>0.108142</td>\n      <td>0.110708</td>\n      <td>...</td>\n      <td>0.057870</td>\n      <td>0.050657</td>\n      <td>0.045007</td>\n      <td>0.051658</td>\n      <td>0.056046</td>\n      <td>0.061113</td>\n      <td>0.062279</td>\n      <td>0.063850</td>\n      <td>0.065215</td>\n      <td>0.057710</td>\n    </tr>\n    <tr>\n      <th>witch</th>\n      <td>0.367134</td>\n      <td>0.555069</td>\n      <td>0.643124</td>\n      <td>0.643567</td>\n      <td>0.576800</td>\n      <td>0.527084</td>\n      <td>0.466527</td>\n      <td>0.421730</td>\n      <td>0.373787</td>\n      <td>0.323619</td>\n      <td>...</td>\n      <td>0.367493</td>\n      <td>0.322633</td>\n      <td>0.290564</td>\n      <td>0.259158</td>\n      <td>0.232382</td>\n      <td>0.204365</td>\n      <td>0.175488</td>\n      <td>0.151950</td>\n      <td>0.137853</td>\n      <td>0.116495</td>\n    </tr>\n    <tr>\n      <th>valkyrie</th>\n      <td>0.043907</td>\n      <td>0.342715</td>\n      <td>0.365461</td>\n      <td>0.362844</td>\n      <td>0.361000</td>\n      <td>0.379194</td>\n      <td>0.363800</td>\n      <td>0.357006</td>\n      <td>0.353519</td>\n      <td>0.337022</td>\n      <td>...</td>\n      <td>0.214769</td>\n      <td>0.207137</td>\n      <td>0.212871</td>\n      <td>0.205398</td>\n      <td>0.200810</td>\n      <td>0.198242</td>\n      <td>0.187108</td>\n      <td>0.176937</td>\n      <td>0.172907</td>\n      <td>0.145173</td>\n    </tr>\n    <tr>\n      <th>mortar</th>\n      <td>0.001716</td>\n      <td>0.000952</td>\n      <td>0.001177</td>\n      <td>0.002043</td>\n      <td>0.007632</td>\n      <td>0.013040</td>\n      <td>0.007344</td>\n      <td>0.006705</td>\n      <td>0.007925</td>\n      <td>0.008768</td>\n      <td>...</td>\n      <td>0.000951</td>\n      <td>0.003195</td>\n      <td>0.005382</td>\n      <td>0.003134</td>\n      <td>0.002905</td>\n      <td>0.003630</td>\n      <td>0.004260</td>\n      <td>0.005521</td>\n      <td>0.007227</td>\n      <td>0.009976</td>\n    </tr>\n    <tr>\n      <th>giant-skeleton</th>\n      <td>0.007723</td>\n      <td>0.178079</td>\n      <td>0.237554</td>\n      <td>0.184249</td>\n      <td>0.169406</td>\n      <td>0.155167</td>\n      <td>0.155398</td>\n      <td>0.150165</td>\n      <td>0.147533</td>\n      <td>0.133161</td>\n      <td>...</td>\n      <td>0.105438</td>\n      <td>0.096422</td>\n      <td>0.087696</td>\n      <td>0.088831</td>\n      <td>0.085329</td>\n      <td>0.083448</td>\n      <td>0.074179</td>\n      <td>0.069259</td>\n      <td>0.061679</td>\n      <td>0.039606</td>\n    </tr>\n  </tbody>\n</table>\n<p>5 rows × 26 columns</p>\n</div>"
     },
     "execution_count": 11,
     "metadata": {},
     "output_type": "execute_result"
    }
   ],
   "source": [
    "usage_arena = pd.DataFrame()\n",
    "grouped = df.groupby('arena_id')\n",
    "\n",
    "for elem in importance.card.iloc[:5]:\n",
    "    usage = grouped.apply(lambda x: x[elem].mean())\n",
    "    win = grouped.apply(lambda x: len(x[x[elem] & x['has_won']]) / len(x))\n",
    "    d = pd.concat([usage.to_frame().T.add_prefix('usage_'), win.to_frame().T.add_prefix('win_')], axis=1)\n",
    "    d['card'] = elem\n",
    "    usage_arena = pd.concat([usage_arena, d])\n",
    "\n",
    "usage_arena.set_index('card', inplace=True)\n",
    "usage_arena"
   ],
   "metadata": {
    "collapsed": false,
    "pycharm": {
     "name": "#%%\n"
    }
   }
  },
  {
   "cell_type": "code",
   "execution_count": 12,
   "outputs": [
    {
     "data": {
      "text/plain": "arena_id\nusage_3     0.264479\nusage_4     0.251126\nusage_2     0.236708\nusage_5     0.228333\nusage_6     0.215024\nusage_7     0.191858\nusage_8     0.175711\nusage_9     0.159559\nusage_1     0.158280\nwin_3       0.148472\nwin_4       0.145073\nusage_10    0.142796\nwin_2       0.132686\nwin_5       0.128821\nusage_11    0.127180\nwin_6       0.119558\nusage_12    0.118716\nusage_13    0.107860\nwin_7       0.107173\nwin_8       0.097547\nwin_1       0.093626\nwin_9       0.088177\nwin_10      0.078326\nwin_11      0.069974\nwin_12      0.066004\nwin_13      0.055719\ndtype: float64"
     },
     "execution_count": 12,
     "metadata": {},
     "output_type": "execute_result"
    }
   ],
   "source": [
    "usage_arena.std(axis=0).sort_values(ascending=False)"
   ],
   "metadata": {
    "collapsed": false,
    "pycharm": {
     "name": "#%%\n"
    }
   }
  },
  {
   "cell_type": "code",
   "execution_count": 13,
   "outputs": [
    {
     "data": {
      "text/plain": "<Figure size 432x288 with 1 Axes>",
      "image/png": "[encoded data removed]"
     },
     "metadata": {
      "needs_background": "light"
     },
     "output_type": "display_data"
    }
   ],
   "source": [
    "usage_arena['win_1'].sort_values().plot()\n",
    "usage_arena['win_2'].sort_values().plot()\n",
    "usage_arena['win_12'].sort_values().plot()\n",
    "usage_arena['win_13'].sort_values().plot()\n",
    "plt.legend()\n",
    "plt.show()"
   ],
   "metadata": {
    "collapsed": false,
    "pycharm": {
     "name": "#%%\n"
    }
   }
  },
  {
   "cell_type": "code",
   "execution_count": 14,
   "outputs": [
    {
     "data": {
      "text/plain": "<Figure size 432x288 with 1 Axes>",
      "image/png": "[encoded data removed]"
     },
     "metadata": {
      "needs_background": "light"
     },
     "output_type": "display_data"
    }
   ],
   "source": [
    "usage_arena['usage_1'].sort_values().plot()\n",
    "usage_arena['usage_2'].sort_values().plot()\n",
    "usage_arena['usage_12'].sort_values().plot()\n",
    "usage_arena['usage_13'].sort_values().plot()\n",
    "plt.legend()\n",
    "plt.show()"
   ],
   "metadata": {
    "collapsed": false,
    "pycharm": {
     "name": "#%%\n"
    }
   }
  },
  {
   "cell_type": "code",
   "execution_count": 15,
   "outputs": [
    {
     "name": "stderr",
     "output_type": "stream",
     "text": [
      "/tmp/ipykernel_5966/1610588605.py:3: FutureWarning: Passing a set as an indexer is deprecated and will raise in a future version. Use a list instead.\n",
      "  grouped = df.iloc[:1000].groupby('tag').mean()[player_deck]\n"
     ]
    },
    {
     "data": {
      "text/plain": "<Figure size 748.8x514.8 with 1 Axes>",
      "image/png": "[encoded data removed]"
     },
     "metadata": {
      "needs_background": "light"
     },
     "output_type": "display_data"
    },
    {
     "data": {
      "text/plain": "<Figure size 748.8x514.8 with 1 Axes>",
      "image/png": "[encoded data removed]"
     },
     "metadata": {
      "needs_background": "light"
     },
     "output_type": "display_data"
    }
   ],
   "source": [
    "plt.style.use('seaborn-talk')\n",
    "\n",
    "grouped = df.iloc[:1000].groupby('tag').mean()[player_deck]\n",
    "\n",
    "pca = PCA(n_components=5)\n",
    "transformed = pd.DataFrame(pca.fit_transform(grouped))\n",
    "pca_explained_variance_bar(pca, alpha=0.8)\n",
    "plt.show()\n",
    "\n",
    "'''\n",
    "plt.scatter(transformed[0], transformed[1], alpha=.1, color='black')\n",
    "plt.xlabel('PCA 1')\n",
    "plt.ylabel('PCA 2')\n",
    "plt.show()\n",
    "'''"
   ],
   "metadata": {
    "collapsed": false,
    "pycharm": {
     "name": "#%%\n"
    }
   }
  },
  {
   "cell_type": "code",
   "execution_count": 1,
   "outputs": [
    {
     "ename": "NameError",
     "evalue": "name 'pca' is not defined",
     "output_type": "error",
     "traceback": [
      "\u001B[0;31m---------------------------------------------------------------------------\u001B[0m",
      "\u001B[0;31mNameError\u001B[0m                                 Traceback (most recent call last)",
      "\u001B[0;32m/tmp/ipykernel_13381/581128173.py\u001B[0m in \u001B[0;36m<module>\u001B[0;34m\u001B[0m\n\u001B[0;32m----> 1\u001B[0;31m \u001B[0;32mfor\u001B[0m \u001B[0mcard_id\u001B[0m \u001B[0;32min\u001B[0m \u001B[0mpca\u001B[0m\u001B[0;34m.\u001B[0m\u001B[0mcomponents_\u001B[0m\u001B[0;34m.\u001B[0m\u001B[0margsort\u001B[0m\u001B[0;34m(\u001B[0m\u001B[0maxis\u001B[0m\u001B[0;34m=\u001B[0m\u001B[0;36m1\u001B[0m\u001B[0;34m)\u001B[0m\u001B[0;34m[\u001B[0m\u001B[0;34m:\u001B[0m\u001B[0;36m3\u001B[0m\u001B[0;34m,\u001B[0m \u001B[0;34m-\u001B[0m\u001B[0;36m2\u001B[0m\u001B[0;34m:\u001B[0m\u001B[0;34m]\u001B[0m\u001B[0;34m.\u001B[0m\u001B[0mflatten\u001B[0m\u001B[0;34m(\u001B[0m\u001B[0;34m)\u001B[0m\u001B[0;34m:\u001B[0m\u001B[0;34m\u001B[0m\u001B[0;34m\u001B[0m\u001B[0m\n\u001B[0m\u001B[1;32m      2\u001B[0m     \u001B[0mgrouped\u001B[0m\u001B[0;34m.\u001B[0m\u001B[0miloc\u001B[0m\u001B[0;34m[\u001B[0m\u001B[0;34m:\u001B[0m\u001B[0;34m,\u001B[0m \u001B[0mcard_id\u001B[0m\u001B[0;34m]\u001B[0m\u001B[0;34m.\u001B[0m\u001B[0msort_values\u001B[0m\u001B[0;34m(\u001B[0m\u001B[0;34m)\u001B[0m\u001B[0;34m.\u001B[0m\u001B[0mplot\u001B[0m\u001B[0;34m(\u001B[0m\u001B[0;34m)\u001B[0m\u001B[0;34m\u001B[0m\u001B[0;34m\u001B[0m\u001B[0m\n\u001B[1;32m      3\u001B[0m \u001B[0mplt\u001B[0m\u001B[0;34m.\u001B[0m\u001B[0mlegend\u001B[0m\u001B[0;34m(\u001B[0m\u001B[0;34m)\u001B[0m\u001B[0;34m\u001B[0m\u001B[0;34m\u001B[0m\u001B[0m\n\u001B[1;32m      4\u001B[0m \u001B[0mplt\u001B[0m\u001B[0;34m.\u001B[0m\u001B[0mshow\u001B[0m\u001B[0;34m(\u001B[0m\u001B[0;34m)\u001B[0m\u001B[0;34m\u001B[0m\u001B[0;34m\u001B[0m\u001B[0m\n",
      "\u001B[0;31mNameError\u001B[0m: name 'pca' is not defined"
     ]
    }
   ],
   "source": [
    "for card_id in pca.components_.argsort(axis=1)[:3, -2:].flatten():\n",
    "    grouped.iloc[:, card_id].sort_values().plot()\n",
    "plt.legend()\n",
    "plt.show()"
   ],
   "metadata": {
    "collapsed": false,
    "pycharm": {
     "name": "#%%\n"
    }
   }
  },
  {
   "cell_type": "code",
   "execution_count": 24,
   "outputs": [
    {
     "data": {
      "text/plain": "<Figure size 748.8x514.8 with 1 Axes>",
      "image/png": "[encoded data removed]"
     },
     "metadata": {
      "needs_background": "light"
     },
     "output_type": "display_data"
    }
   ],
   "source": [
    "ks = range(1, 10)\n",
    "inertias = []\n",
    "for k in ks:\n",
    "    # Create a KMeans instance with k clusters: model\n",
    "    model = KMeans(n_clusters=k)\n",
    "    # Fit model to samples\n",
    "    model.fit(transformed.iloc[:, :3])\n",
    "    # Append the inertia to the list of inertias\n",
    "    inertias.append(model.inertia_)\n",
    "\n",
    "plt.plot(ks, inertias, '-o', color='black')\n",
    "plt.xlabel('number of clusters, k')\n",
    "plt.ylabel('inertia')\n",
    "plt.xticks(ks)\n",
    "plt.show()"
   ],
   "metadata": {
    "collapsed": false,
    "pycharm": {
     "name": "#%%\n"
    }
   }
  },
  {
   "cell_type": "code",
   "execution_count": 25,
   "outputs": [
    {
     "data": {
      "application/vnd.plotly.v1+json": {
       "data": [
        {
         "marker": {
          "color": [
           1,
           2,
           2,
           1,
           4,
           1,
           3,
           1,
           4,
           1,
           0,
           4,
           3,
           4,
           4,
           3,
           2,
           0,
           1,
           4,
           3,
           3,
           0,
           0,
           3,
           3,
           2,
           4,
           4,
           0,
           1,
           0,
           1,
           3,
           2,
           1,
           4,
           3,
           4,
           3,
           0,
           3,
           3,
           0,
           4,
           1,
           1,
           4,
           2,
           0,
           4,
           0,
           1,
           1,
           1,
           2,
           2,
           4,
           3,
           2,
           2,
           4,
           2,
           2,
           3,
           4,
           1,
           3,
           3,
           3,
           1,
           4,
           3,
           2,
           4,
           1,
           1,
           4,
           2,
           0,
           3,
           1,
           4,
           4,
           2,
           3,
           2,
           0,
           3,
           0,
           4,
           2,
           2,
           2,
           1,
           3,
           2,
           1,
           0,
           0,
           2,
           3,
           4,
           1,
           3,
           2,
           4,
           1,
           4,
           2,
           2,
           1,
           2,
           3,
           4,
           4,
           2,
           4,
           4,
           0,
           3,
           2,
           2,
           3,
           4,
           3,
           2,
           3,
           1,
           3,
           2,
           2,
           3,
           4,
           0,
           1,
           3,
           2,
           4,
           2,
           0,
           1,
           0,
           4,
           2,
           0,
           2,
           2,
           0,
           0,
           3,
           3,
           2,
           2,
           2,
           2,
           4,
           2,
           0,
           2,
           2,
           4,
           4,
           2,
           0,
           1,
           1,
           3,
           2,
           4,
           0,
           1,
           3,
           0,
           0,
           2,
           2,
           3,
           0,
           2,
           0,
           1,
           2,
           1,
           0,
           1,
           0,
           2,
           0,
           1,
           4,
           1,
           0,
           2,
           2,
           3,
           3,
           2,
           2,
           1,
           4,
           4,
           4,
           1,
           3,
           0,
           1,
           1,
           2,
           4,
           2,
           2,
           1,
           4,
           3,
           2,
           0,
           0,
           4,
           2,
           1,
           1,
           3,
           1,
           3,
           0,
           2,
           2,
           4,
           4,
           1,
           4,
           2,
           4,
           2,
           0,
           1,
           3,
           3,
           1,
           2,
           2,
           3,
           2,
           2,
           0,
           4,
           3,
           0,
           3,
           4,
           2,
           4,
           3,
           2,
           4,
           4,
           1,
           0,
           2,
           1,
           4,
           3,
           4,
           4,
           0,
           3,
           3,
           1,
           4,
           3,
           1,
           1,
           4,
           4,
           2,
           0,
           3,
           1,
           4,
           0,
           2,
           0,
           1,
           4,
           4,
           3,
           0,
           4,
           0,
           3,
           3,
           0
          ],
          "line": {
           "color": "black",
           "width": 10
          },
          "size": 10
         },
         "mode": "markers",
         "x": [
          0.5811176482543291,
          -0.5118333189305652,
          -0.33849885492029896,
          0.8440570304529642,
          0.181357090528263,
          0.5406118558221084,
          -0.01450061862306769,
          0.4876277806690512,
          -0.11234382091372418,
          0.7738564068475745,
          0.06985323944458516,
          1.0993807627070027,
          -0.6519847373590804,
          0.7035497029650991,
          0.6120249256236464,
          -0.1691140469830103,
          -0.8975642129188298,
          -0.26043023918230157,
          1.6532000058962144,
          0.4628992428128573,
          -0.1779644904264698,
          -0.9929929200830231,
          -0.49963295105972627,
          -0.20770950291689985,
          -0.564411095296502,
          -0.7152672936659653,
          -0.19432791847822117,
          0.42494367899400576,
          0.41458603430911156,
          -0.47234594895165954,
          0.30581842177727764,
          0.06513276355530401,
          0.6085515209306775,
          -0.585710711761951,
          -0.11618583369526361,
          0.37803239397814653,
          0.32575634585774643,
          -0.05297406690048149,
          -0.46320495099013415,
          -0.815556341054981,
          -0.10360166699356671,
          -0.1229621965081576,
          -0.7031494548116302,
          -0.03778453384957422,
          -0.5325019194723879,
          1.196248559353818,
          1.1630931623043068,
          0.5011146524897785,
          -0.20419958923590598,
          -0.20513071055605067,
          0.32055096590870125,
          -0.0836887654161977,
          0.5052510798529765,
          0.6071383567777546,
          1.363848743116701,
          -0.45375770544713734,
          -0.5651572212838264,
          0.4397528803731886,
          -0.21486948602588804,
          -0.3308895872695311,
          -0.608980949508979,
          0.0395455231205264,
          -0.7442627719246357,
          -0.2929970568315359,
          -0.5191957920146673,
          0.23214503659890703,
          0.8763475876992022,
          -0.5612253836304387,
          -1.0032523418283754,
          0.026616169473720683,
          0.6306802572707491,
          0.5484184481946041,
          -1.1184588053396154,
          -0.5406804801590782,
          0.12156478646253328,
          0.8405694285444548,
          1.6259578225971603,
          0.8988257769002349,
          -0.7317551668030848,
          1.1643062223015528,
          -0.16166450704414356,
          0.4435764763859359,
          0.3233158946446872,
          0.5296260262781541,
          -0.6286755061924005,
          -0.8999776479742595,
          -0.8956199019583649,
          -0.1885488063150902,
          -0.07899206261873554,
          -0.09223679936223267,
          0.13073786041946334,
          -0.5115385976515504,
          -1.2360937446376283,
          -0.5478123828273483,
          0.3508575259799311,
          -1.0258928158614697,
          -0.39581954626393173,
          0.5174105302134733,
          0.3978955026041957,
          -0.15572221488275484,
          -0.6962602776691468,
          0.34346978092615044,
          0.7679136100809046,
          1.5697359368867387,
          -0.6694193351783796,
          -0.12752654475694097,
          0.5107232997138764,
          1.4383764472317697,
          0.14389616911299336,
          -1.2702052174337863,
          -1.220548969156719,
          1.5980703004560985,
          -0.37575863952714034,
          -0.4317594155314029,
          0.510721725902023,
          1.1514555440714422,
          -0.1763187311689645,
          0.6644011906330713,
          0.8750825319203256,
          0.5963190246024719,
          -0.6086884260982488,
          -0.5228064744280194,
          -0.8795380782299823,
          -0.2680016223553574,
          0.5255533626850408,
          -0.8027722237034458,
          -0.477727356534144,
          -0.38093305170383734,
          1.0123107918361638,
          -0.9292543983702951,
          -0.5445990808835016,
          -0.5953751097119651,
          0.20152074140428722,
          1.2127372623344026,
          0.7743662351581942,
          1.698091841062826,
          -0.4191576851097694,
          -0.8754809747247062,
          -0.013600836546094468,
          -0.43932469725608003,
          -0.00588780761513627,
          0.5034642162218718,
          0.10938921086407215,
          0.061413533748693974,
          -0.9481955012357455,
          -0.1877916596032815,
          -1.032712719475414,
          0.05429216046253855,
          -0.20897139640340712,
          0.1829568125581563,
          -0.3896876347638394,
          -0.16131970097094808,
          -0.23930965788882352,
          -0.575012914074752,
          -0.4735908579420498,
          -0.7384600387537891,
          0.0627605886435532,
          -0.13265779473702013,
          -0.42422437541640956,
          -0.6854940079551236,
          -0.4225066930796037,
          0.5767572743662477,
          0.22773555462138478,
          -0.4585605990813039,
          0.7306589065939103,
          0.2884612405225523,
          0.6001346930320504,
          -0.29032159427424886,
          -0.6512732655294351,
          0.07475754324013051,
          -0.22800755015346796,
          1.423921824475444,
          -0.401640648135398,
          0.1336235500277195,
          -0.22662694069657524,
          -0.5195029147395268,
          -0.630620139781712,
          -0.4435686572776779,
          0.08231412404601585,
          -0.4237611641953558,
          0.03219605067653765,
          1.6304849998121418,
          -0.714216557517138,
          1.1799913591986535,
          -0.3005941870892145,
          0.6467475465368386,
          -0.11681645822778998,
          -0.6453017754931668,
          0.4418238342727368,
          0.1976260670881396,
          0.49066737122094395,
          0.5441672367034744,
          -0.31480451287980815,
          -0.6013663365807519,
          -0.8094088680875815,
          -0.5038305908432561,
          -0.5445197178475979,
          -0.25380029800867693,
          -0.6949578815603603,
          0.5316818299959505,
          0.3985774130770947,
          0.5996675985722755,
          0.9352991097519612,
          0.31497006588925375,
          -0.42200900803814734,
          0.35033923751887047,
          0.8323063958166415,
          0.3958351036124674,
          -0.48263795177686236,
          0.2328456373717434,
          -0.5445340935290381,
          -0.14351049304525876,
          1.2351407580835427,
          0.21047802485461928,
          -0.01862003037648146,
          -0.5829447505155072,
          -0.3527751806671563,
          -0.20513071055605062,
          0.14006496120942968,
          -0.14558477397796352,
          0.4172205455260393,
          1.2578137804042833,
          -0.608178791870393,
          1.183828858486152,
          -0.8259229935584704,
          0.3559772213088355,
          -0.6565609294378079,
          -0.2449000892557777,
          0.0399364972695996,
          0.8942206890795967,
          0.3888957614368606,
          -0.18186933045975484,
          -0.66788830903848,
          -0.2171957826277537,
          -0.14825197385512545,
          0.041377578825982204,
          1.005579850860576,
          -0.014280954662434795,
          -0.9943462482495435,
          0.4745901659507513,
          -0.6842051230854281,
          -0.3873440817646443,
          -0.9585597882586959,
          -1.0669107548089605,
          -0.4358044829138182,
          -0.08264072377380378,
          -0.04445870237767623,
          -0.4689109504575988,
          -0.6562610428221523,
          -0.6226161495101376,
          -0.22401006840180368,
          -1.3701298717289994,
          0.5359415604686354,
          -0.5009176499292616,
          -0.09030561276670018,
          0.45407188281987665,
          0.06697056781398764,
          0.9506730016752709,
          0.32011745008249604,
          -0.8843550852755993,
          0.16583219514651287,
          1.1383534258693966,
          -0.4543764808468796,
          0.13742840877478,
          0.595394516213368,
          -0.25628253147357416,
          0.014169166484041054,
          -0.8839817052600464,
          0.9446248844408538,
          0.5449467680658725,
          -1.1881257166155303,
          0.526925642728305,
          0.5397546405908105,
          0.21243407099013675,
          0.29154627510796804,
          -0.1409788756687853,
          -0.19543989953123464,
          -0.1203375913569538,
          1.682358144706844,
          0.9971453205358376,
          -0.41870455858282873,
          -0.24669184964480761,
          0.21214387554057057,
          0.8657120548591658,
          -0.24908339565700785,
          -0.04336935291964447,
          -0.6351806208503289,
          0.0029564099602648426,
          0.04149478807190877,
          -0.4780176919937825,
          0.061872638367228026,
          0.06674286046878661,
          -0.12392794555037943
         ],
         "y": [
          -0.5509675127648166,
          -0.13985716930505873,
          -0.35156382905759453,
          -0.7061637614425051,
          0.10595762363146999,
          -0.11544735542515834,
          -0.044475058981112724,
          -1.228863261533008,
          -6.676085678629163E-4,
          0.19296291478880542,
          0.5806608016144229,
          0.518587877252313,
          0.22753385522879482,
          0.474576688249444,
          0.7801752385924906,
          -0.7026922465975984,
          -0.9418930815586017,
          0.7250710379686766,
          -0.08474242816471941,
          0.22897958889259074,
          -0.06260433428130353,
          -0.3295085837159101,
          0.5783126379600909,
          1.0720509629231452,
          5.543637623163464E-4,
          -0.09062192078642312,
          -0.4074431860837188,
          0.18130241654180443,
          0.6802326668903881,
          0.6343494083722742,
          -1.036715309095164,
          0.4648673179860113,
          -0.8842027110286176,
          0.31424944777004526,
          0.09764769436434133,
          -1.2276367007750355,
          0.23278009754513246,
          -0.11956405632704815,
          0.6464652550656691,
          0.08100597280676199,
          1.3709552749421874,
          0.20183038883281457,
          0.18266677620953767,
          1.3169948920249226,
          0.6088505268497685,
          -0.32075520687888526,
          -0.5955264515827744,
          0.718269004917619,
          -0.5696611430549554,
          1.1545185234780726,
          -0.025095045001256772,
          0.9637963805510076,
          -1.1949533947395459,
          -0.30607476219021934,
          -0.24475112603444382,
          0.4534633721891512,
          -0.5839978402737682,
          0.4923891603162414,
          0.033298371513392516,
          -0.25158072434002354,
          -0.7332718142199235,
          -0.14337616679883583,
          -0.4554516389182944,
          -0.3705556843779577,
          0.30069658950175415,
          0.20178704584572427,
          -0.7163161525249319,
          0.5141422677350557,
          -0.2866992021446528,
          0.04529733419966633,
          -0.5936650142677885,
          0.19923072226536406,
          -0.2460068588549116,
          -0.16559107498549552,
          -0.11954368221701984,
          0.058940243681364246,
          -0.2396625307006949,
          0.8383757566476145,
          0.0047106774671934635,
          0.9681017393927237,
          -0.26915907484355617,
          -1.0812530783981118,
          0.2750302252920379,
          0.5577896664228611,
          -0.6604748203657693,
          -0.2591634569204522,
          -0.2661048849014001,
          0.5571564104824663,
          -0.14266312495861377,
          0.45144565319782104,
          0.1208772330141713,
          -0.44934644065927515,
          -0.08160972400806438,
          -0.9665953924800657,
          -1.0421934350586297,
          -0.07706273266234413,
          -0.8276318873275648,
          0.026506485903993106,
          1.545765987812043,
          0.5118821319809699,
          -0.2197382059530248,
          -0.001408638704923817,
          0.27455213020142427,
          -0.7550545575725431,
          0.563004395337617,
          -0.11893916097643485,
          0.35663045827049394,
          -1.0646449769639426,
          0.3172498790674959,
          0.22686691112741067,
          -0.5340657250981056,
          -0.354791281207286,
          0.04774362092419566,
          0.16262678371813105,
          0.11994101213259839,
          0.42963395005502064,
          -0.29174457611419374,
          0.33828506133303815,
          0.4041083429772548,
          0.7594345753962991,
          0.244339978914205,
          0.043069358963570344,
          -0.44453365989539084,
          -0.11751837281525199,
          0.05717473648928053,
          0.07978082823781478,
          0.14524943821602865,
          0.4172147645090388,
          -1.0714870522497,
          -0.20784854711453715,
          -0.40027207643362334,
          -0.540742610370878,
          -0.0647580740472802,
          0.8228043368856865,
          0.5001987516038549,
          -0.3390336561541131,
          0.367238462706344,
          -0.6004872266412266,
          -0.24178826600058015,
          -0.6812601861916061,
          0.5944890664132106,
          -1.1786755515608693,
          1.0500824144541518,
          -0.035939400038293275,
          -0.18374859526500756,
          1.0227142290503322,
          -0.6283431499424492,
          -0.47996897292198853,
          0.45934583597630724,
          1.1381860754640023,
          0.03271459558505416,
          0.19790497171588592,
          -0.39282123337305636,
          0.4349135380806501,
          -0.5813049347632359,
          -0.46156246701716985,
          0.27665680883597205,
          -0.05525686629794061,
          0.4998730242442495,
          -0.6533715272793312,
          0.27266127647061134,
          0.9561573858015685,
          -0.25613527211946147,
          -0.6450564180292331,
          0.4311240228965547,
          -1.511532783671964,
          -0.1133089621977539,
          -0.4865087897344246,
          -0.7381459838067777,
          -0.16431509513526765,
          0.5385895498323209,
          -0.37314461060415877,
          0.2657676228957843,
          0.4501986040013817,
          1.036444944220372,
          -0.2591176972021826,
          -0.6644183186680951,
          0.446071566000544,
          1.2783428056280695,
          -0.6035784186848516,
          1.1138378157496713,
          -0.440634806231334,
          -0.7408861481073497,
          -0.9998951056533631,
          0.9455270369521561,
          -0.8141165764378989,
          0.9566390305336694,
          -0.656798751137746,
          1.087722695417355,
          -0.6679487247508958,
          0.18935607903091278,
          -0.29556132599710344,
          0.6250370005085777,
          -0.628858206689093,
          -0.9143877632155482,
          0.4164988432624594,
          0.22098013297853916,
          -0.17844683913077372,
          -0.6777166804001358,
          -0.7569238957716568,
          0.30286311652936165,
          0.3923744625402469,
          -0.14412574818440974,
          -1.2415710494047445,
          0.38879565870986693,
          0.8618280252504782,
          0.32379334530126436,
          -0.9555011237618085,
          0.06394957104689057,
          0.17707195705857218,
          -0.39251662352898886,
          -0.41662188059427874,
          -0.6785370267654691,
          0.1934799132455251,
          -0.49703978168708873,
          0.2363066138067146,
          0.8369452997615682,
          1.1545185234780724,
          0.5383574277421013,
          -0.44081466152868376,
          -0.7634210503316055,
          -0.4337244824754351,
          -0.47472558489338273,
          -0.8413482846897629,
          0.019617785493915397,
          1.3792900243196924,
          -0.5070309836929812,
          -0.5010153497211421,
          0.47835094657087296,
          0.03729143959795325,
          -0.5259308684295528,
          0.11754158579410903,
          -0.8714492426452185,
          0.06333993044635601,
          -0.20754954023022243,
          0.9217212621029027,
          -0.18991861963097778,
          0.0730551968522902,
          -0.251639555672714,
          -1.27930241860539,
          -0.6717142858099453,
          -0.10237756464828675,
          0.14984206685968243,
          -0.23672753072714794,
          -0.02849472359701317,
          0.3645725522116088,
          0.06284557484223396,
          -0.35560170935038987,
          0.6675960260187939,
          0.07796900199971257,
          0.556192764858041,
          -0.2525538011328715,
          0.049606466180234336,
          -0.020102708761700106,
          -0.40658817214723914,
          0.5999511566770255,
          -0.09481762130300808,
          0.28790058887538794,
          0.8566067291035228,
          0.12668348356020093,
          -0.7682974912159474,
          0.02574391284758894,
          -0.05525530399333758,
          0.10609037345994182,
          0.6007840329411811,
          0.428620879794861,
          -0.24731155675208877,
          -0.016892746041679334,
          0.10405659167560888,
          0.7666264782704711,
          -0.5364132127088124,
          0.13953571979852575,
          -0.8096754084430529,
          -0.056775787068816475,
          1.058325685005072,
          -0.09770213611682192,
          0.7426523507030556,
          -0.09294079195723363,
          -0.6313495297257851,
          0.23765523099913458,
          0.747107309629502,
          -0.07254750358091343,
          0.7968612363928721,
          -1.16251397825307,
          0.17815276750206244,
          0.9623988505345329,
          -0.5350856358312381,
          0.5567447991782636,
          0.11879710368862549,
          0.7600558365576364,
          -0.059875527702313185,
          0.10607080276720407,
          0.6207530893420975
         ],
         "z": [
          -1.0117227787101168,
          0.46409799560728815,
          0.24068526216486769,
          0.08196220384847183,
          0.1732384922048848,
          -0.4967076209684107,
          -0.12625399700921278,
          -0.09041974239355093,
          0.8314231261240139,
          -0.7299880656853616,
          -0.07158758049805684,
          0.14360825101923871,
          -0.8204287371257274,
          0.41501055338314036,
          0.43450482247207445,
          -0.3441229792920492,
          -0.020453651061523383,
          -0.12207414103052917,
          -0.33943398383565787,
          0.2520547766680792,
          -0.09006586213105064,
          -1.3965591075619628,
          0.1184062512846605,
          -1.0164508421572929,
          -0.32279010863305707,
          -0.2527533492513007,
          -0.05243774101986338,
          0.7286632747411369,
          0.18652691829414877,
          -0.5610011174559154,
          -0.7133471351907742,
          -0.1174965300384137,
          -0.8591351748432169,
          -0.04026046837485179,
          0.11424919174716684,
          -1.0004577888691975,
          0.02321685502615569,
          -0.4585242910718289,
          0.9727924727054879,
          -0.03633958283821069,
          -0.09628978289972141,
          -0.19047170228627996,
          -1.4548494069969349,
          -0.34888898207237296,
          0.6775180939654906,
          0.3802485156441749,
          -1.068703634172739,
          0.7249527370870195,
          0.49371226174745775,
          -1.0045132037805382,
          0.04395143646048122,
          -0.5163992907959315,
          -0.4362460043030671,
          -0.08785752977062482,
          0.4329763840721846,
          0.39311156046399504,
          0.3330471622918758,
          0.44549797169417327,
          -0.5382824699578396,
          0.4178135633360372,
          0.0996807685457711,
          1.2922777728928072,
          0.5451404729533021,
          0.44133956445923794,
          -0.46590104429468737,
          0.5868698218761554,
          -0.36561049619788705,
          -0.832505861668644,
          -1.4239566227410354,
          -1.1226053975110826,
          -0.28990980487629614,
          0.9563991534016703,
          -0.46937947707807026,
          0.8609021535759127,
          0.8200827625542321,
          -0.7544364898552013,
          -0.2745443296359053,
          0.353642775316785,
          0.12925378181823022,
          -0.6524568615592248,
          -0.21331410584237775,
          -0.1752876893918196,
          1.2272252253771812,
          0.3308906672951218,
          0.2499706781004503,
          -0.1802854922874597,
          0.19683046225508102,
          -0.6422545996104118,
          -0.4855098585762164,
          -0.26617893098581336,
          1.0472944036026561,
          0.5439685781927562,
          0.17893217783856571,
          0.3169261740877217,
          -0.054475000265121074,
          -0.2991144509064382,
          0.3552553766495201,
          -0.3523561793453959,
          0.06719508045575276,
          -0.1915055039131935,
          0.017999667693967637,
          -0.9934334115105135,
          0.35856602839577606,
          0.23953757070308498,
          -0.4020941030944683,
          0.40827216394607796,
          0.9134556323847214,
          -0.08155738169009379,
          0.671245541617599,
          0.24209149829887122,
          -0.00954251666673099,
          0.21587452059575882,
          0.5854547445187979,
          -0.17314190596272705,
          0.06365713649281472,
          0.4542540493867723,
          0.9861826020251351,
          0.27287430013296887,
          0.2644410245007882,
          -0.04834795152632955,
          -0.6177106390162366,
          0.4062204645017068,
          0.2458352369465464,
          -0.770924741970704,
          0.6741571631896465,
          -0.2715925931364357,
          0.07064709697411031,
          -0.5956617596697384,
          0.19564130412695854,
          -0.7639230260983122,
          0.3132428789263255,
          0.8524217234970254,
          -0.33814818409375985,
          0.5687714953517008,
          -0.6186577261161929,
          0.014660665964659972,
          -0.4512615151877732,
          0.6185009948617526,
          1.4743447163496763,
          0.1844081502842011,
          -0.05905723052197851,
          0.23938984484388967,
          0.3419484187416477,
          0.37119027934147114,
          0.16611689954294603,
          -0.7013429639157114,
          1.1046007701791958,
          0.05512812080066306,
          -0.6497681686744397,
          -0.13411236952392336,
          -0.056174565357527344,
          -0.9181217192453268,
          0.9526114379805005,
          0.2632353571936495,
          -0.22055627348743434,
          0.20176658221371846,
          1.4954331044409293,
          0.099534912673065,
          0.014703011315081642,
          0.6790670843368833,
          0.7225865692656153,
          0.36364810702942424,
          0.25317979890684195,
          -0.10983117061700769,
          -0.43723966358052413,
          -0.9856203294243483,
          -0.7481099857375683,
          -0.4096430300074802,
          0.31869663712178825,
          0.553969731053946,
          0.13947411199056087,
          0.09852409925486656,
          -0.19254978592367572,
          -0.40703487339960914,
          -1.1184264879842147,
          0.8036048367240833,
          0.6941425943505123,
          -0.24325096763682355,
          -0.5722672346291204,
          0.4539474481096794,
          0.16469864916058738,
          0.03279798859264926,
          0.045427975007224126,
          -0.1858155651705153,
          -0.6320168215368704,
          -0.4157271737085168,
          0.050800430770435896,
          0.6738302413077321,
          -0.8994479611850416,
          -1.1229771343366775,
          0.6811142362548502,
          -0.23241629729809798,
          -0.1819365811049206,
          0.7351356444804344,
          -0.06649271016155887,
          -0.31039137096247793,
          -0.2627093865038394,
          0.2180269044628832,
          0.32056519890574997,
          -0.052892671149355946,
          0.7078800213632461,
          0.8432429871881367,
          0.44096811068990144,
          -0.29275183295878826,
          -0.16826413593280437,
          -0.4756648997864573,
          -1.2563054351386653,
          -0.06922290637955301,
          0.49807860899882217,
          0.6795489418485534,
          0.6824318076694331,
          0.13887031950654716,
          0.11325127638751738,
          0.603954412764796,
          -0.4939703194177983,
          0.28947035242057334,
          -0.09199140096078483,
          -1.0045132037805384,
          0.8612097238242828,
          0.2990679414572035,
          -0.324751067399896,
          0.4237529722476325,
          -0.27153043708922947,
          -0.8931768028419252,
          -0.874835959971296,
          -0.17119724368076294,
          0.5075101616838325,
          0.3855597195321016,
          0.3007265689929467,
          0.809870098820215,
          -0.7229069714436587,
          0.6621890713815369,
          0.38317519138615547,
          1.0776015735288973,
          0.8688772927946621,
          -0.021073831332438436,
          -0.6271198486603906,
          -0.3662702055274514,
          -0.7498837381775559,
          -0.8235006874131202,
          -0.08567604493020893,
          0.008237627486679621,
          -0.25456338023650993,
          0.13904730140660473,
          1.0261538588841885,
          -0.220973751140681,
          0.6460873055493026,
          -1.4812855321554936,
          -0.03637476774618,
          -0.8182625382076353,
          0.9109486827928605,
          0.24162806602033562,
          0.7277512331696303,
          -1.0169522061730847,
          0.39180506607830756,
          0.20849484914368585,
          0.23664823923511286,
          -0.43051871832657634,
          -0.7767624671860976,
          0.2892700677975795,
          -0.647602585036196,
          0.4493867308217013,
          -0.9220936977033879,
          0.7104563507176985,
          0.7260167395733543,
          -0.09867178730816542,
          -0.7898172160313042,
          -0.27572240381566937,
          -1.2060184227134203,
          0.4023413038283525,
          -0.47792845740259626,
          -0.5705102233694201,
          -0.6174936813146399,
          0.4541628140146638,
          0.42071251091333356,
          0.3612990742368845,
          -0.47826338984460876,
          -0.3775192743515763,
          0.15783347686181545,
          0.7154203022595518,
          0.1922176670789538,
          0.40901655857077795,
          -0.05306547116183224,
          -0.26202827317021515,
          0.740800944769382,
          0.5862342771711012,
          -0.49724159369938253,
          -0.11905398926851087,
          0.2677000596449855,
          -0.013527108356103323,
          -0.5506057641938961,
          -0.06961919330018447,
          -0.0879982506506621
         ],
         "type": "scatter3d"
        }
       ],
       "layout": {
        "height": 800,
        "margin": {
         "l": 0,
         "r": 0
        },
        "scene": {
         "xaxis": {
          "title": {
           "text": "Age -->"
          }
         },
         "yaxis": {
          "title": {
           "text": "Spending Score--->"
          }
         },
         "zaxis": {
          "title": {
           "text": "Annual Income-->"
          }
         }
        },
        "width": 800,
        "template": {
         "data": {
          "bar": [
           {
            "error_x": {
             "color": "#2a3f5f"
            },
            "error_y": {
             "color": "#2a3f5f"
            },
            "marker": {
             "line": {
              "color": "#E5ECF6",
              "width": 0.5
             },
             "pattern": {
              "fillmode": "overlay",
              "size": 10,
              "solidity": 0.2
             }
            },
            "type": "bar"
           }
          ],
          "barpolar": [
           {
            "marker": {
             "line": {
              "color": "#E5ECF6",
              "width": 0.5
             },
             "pattern": {
              "fillmode": "overlay",
              "size": 10,
              "solidity": 0.2
             }
            },
            "type": "barpolar"
           }
          ],
          "carpet": [
           {
            "aaxis": {
             "endlinecolor": "#2a3f5f",
             "gridcolor": "white",
             "linecolor": "white",
             "minorgridcolor": "white",
             "startlinecolor": "#2a3f5f"
            },
            "baxis": {
             "endlinecolor": "#2a3f5f",
             "gridcolor": "white",
             "linecolor": "white",
             "minorgridcolor": "white",
             "startlinecolor": "#2a3f5f"
            },
            "type": "carpet"
           }
          ],
          "choropleth": [
           {
            "colorbar": {
             "outlinewidth": 0,
             "ticks": ""
            },
            "type": "choropleth"
           }
          ],
          "contour": [
           {
            "colorbar": {
             "outlinewidth": 0,
             "ticks": ""
            },
            "colorscale": [
             [
              0.0,
              "#0d0887"
             ],
             [
              0.1111111111111111,
              "#46039f"
             ],
             [
              0.2222222222222222,
              "#7201a8"
             ],
             [
              0.3333333333333333,
              "#9c179e"
             ],
             [
              0.4444444444444444,
              "#bd3786"
             ],
             [
              0.5555555555555556,
              "#d8576b"
             ],
             [
              0.6666666666666666,
              "#ed7953"
             ],
             [
              0.7777777777777778,
              "#fb9f3a"
             ],
             [
              0.8888888888888888,
              "#fdca26"
             ],
             [
              1.0,
              "#f0f921"
             ]
            ],
            "type": "contour"
           }
          ],
          "contourcarpet": [
           {
            "colorbar": {
             "outlinewidth": 0,
             "ticks": ""
            },
            "type": "contourcarpet"
           }
          ],
          "heatmap": [
           {
            "colorbar": {
             "outlinewidth": 0,
             "ticks": ""
            },
            "colorscale": [
             [
              0.0,
              "#0d0887"
             ],
             [
              0.1111111111111111,
              "#46039f"
             ],
             [
              0.2222222222222222,
              "#7201a8"
             ],
             [
              0.3333333333333333,
              "#9c179e"
             ],
             [
              0.4444444444444444,
              "#bd3786"
             ],
             [
              0.5555555555555556,
              "#d8576b"
             ],
             [
              0.6666666666666666,
              "#ed7953"
             ],
             [
              0.7777777777777778,
              "#fb9f3a"
             ],
             [
              0.8888888888888888,
              "#fdca26"
             ],
             [
              1.0,
              "#f0f921"
             ]
            ],
            "type": "heatmap"
           }
          ],
          "heatmapgl": [
           {
            "colorbar": {
             "outlinewidth": 0,
             "ticks": ""
            },
            "colorscale": [
             [
              0.0,
              "#0d0887"
             ],
             [
              0.1111111111111111,
              "#46039f"
             ],
             [
              0.2222222222222222,
              "#7201a8"
             ],
             [
              0.3333333333333333,
              "#9c179e"
             ],
             [
              0.4444444444444444,
              "#bd3786"
             ],
             [
              0.5555555555555556,
              "#d8576b"
             ],
             [
              0.6666666666666666,
              "#ed7953"
             ],
             [
              0.7777777777777778,
              "#fb9f3a"
             ],
             [
              0.8888888888888888,
              "#fdca26"
             ],
             [
              1.0,
              "#f0f921"
             ]
            ],
            "type": "heatmapgl"
           }
          ],
          "histogram": [
           {
            "marker": {
             "pattern": {
              "fillmode": "overlay",
              "size": 10,
              "solidity": 0.2
             }
            },
            "type": "histogram"
           }
          ],
          "histogram2d": [
           {
            "colorbar": {
             "outlinewidth": 0,
             "ticks": ""
            },
            "colorscale": [
             [
              0.0,
              "#0d0887"
             ],
             [
              0.1111111111111111,
              "#46039f"
             ],
             [
              0.2222222222222222,
              "#7201a8"
             ],
             [
              0.3333333333333333,
              "#9c179e"
             ],
             [
              0.4444444444444444,
              "#bd3786"
             ],
             [
              0.5555555555555556,
              "#d8576b"
             ],
             [
              0.6666666666666666,
              "#ed7953"
             ],
             [
              0.7777777777777778,
              "#fb9f3a"
             ],
             [
              0.8888888888888888,
              "#fdca26"
             ],
             [
              1.0,
              "#f0f921"
             ]
            ],
            "type": "histogram2d"
           }
          ],
          "histogram2dcontour": [
           {
            "colorbar": {
             "outlinewidth": 0,
             "ticks": ""
            },
            "colorscale": [
             [
              0.0,
              "#0d0887"
             ],
             [
              0.1111111111111111,
              "#46039f"
             ],
             [
              0.2222222222222222,
              "#7201a8"
             ],
             [
              0.3333333333333333,
              "#9c179e"
             ],
             [
              0.4444444444444444,
              "#bd3786"
             ],
             [
              0.5555555555555556,
              "#d8576b"
             ],
             [
              0.6666666666666666,
              "#ed7953"
             ],
             [
              0.7777777777777778,
              "#fb9f3a"
             ],
             [
              0.8888888888888888,
              "#fdca26"
             ],
             [
              1.0,
              "#f0f921"
             ]
            ],
            "type": "histogram2dcontour"
           }
          ],
          "mesh3d": [
           {
            "colorbar": {
             "outlinewidth": 0,
             "ticks": ""
            },
            "type": "mesh3d"
           }
          ],
          "parcoords": [
           {
            "line": {
             "colorbar": {
              "outlinewidth": 0,
              "ticks": ""
             }
            },
            "type": "parcoords"
           }
          ],
          "pie": [
           {
            "automargin": true,
            "type": "pie"
           }
          ],
          "scatter": [
           {
            "marker": {
             "colorbar": {
              "outlinewidth": 0,
              "ticks": ""
             }
            },
            "type": "scatter"
           }
          ],
          "scatter3d": [
           {
            "line": {
             "colorbar": {
              "outlinewidth": 0,
              "ticks": ""
             }
            },
            "marker": {
             "colorbar": {
              "outlinewidth": 0,
              "ticks": ""
             }
            },
            "type": "scatter3d"
           }
          ],
          "scattercarpet": [
           {
            "marker": {
             "colorbar": {
              "outlinewidth": 0,
              "ticks": ""
             }
            },
            "type": "scattercarpet"
           }
          ],
          "scattergeo": [
           {
            "marker": {
             "colorbar": {
              "outlinewidth": 0,
              "ticks": ""
             }
            },
            "type": "scattergeo"
           }
          ],
          "scattergl": [
           {
            "marker": {
             "colorbar": {
              "outlinewidth": 0,
              "ticks": ""
             }
            },
            "type": "scattergl"
           }
          ],
          "scattermapbox": [
           {
            "marker": {
             "colorbar": {
              "outlinewidth": 0,
              "ticks": ""
             }
            },
            "type": "scattermapbox"
           }
          ],
          "scatterpolar": [
           {
            "marker": {
             "colorbar": {
              "outlinewidth": 0,
              "ticks": ""
             }
            },
            "type": "scatterpolar"
           }
          ],
          "scatterpolargl": [
           {
            "marker": {
             "colorbar": {
              "outlinewidth": 0,
              "ticks": ""
             }
            },
            "type": "scatterpolargl"
           }
          ],
          "scatterternary": [
           {
            "marker": {
             "colorbar": {
              "outlinewidth": 0,
              "ticks": ""
             }
            },
            "type": "scatterternary"
           }
          ],
          "surface": [
           {
            "colorbar": {
             "outlinewidth": 0,
             "ticks": ""
            },
            "colorscale": [
             [
              0.0,
              "#0d0887"
             ],
             [
              0.1111111111111111,
              "#46039f"
             ],
             [
              0.2222222222222222,
              "#7201a8"
             ],
             [
              0.3333333333333333,
              "#9c179e"
             ],
             [
              0.4444444444444444,
              "#bd3786"
             ],
             [
              0.5555555555555556,
              "#d8576b"
             ],
             [
              0.6666666666666666,
              "#ed7953"
             ],
             [
              0.7777777777777778,
              "#fb9f3a"
             ],
             [
              0.8888888888888888,
              "#fdca26"
             ],
             [
              1.0,
              "#f0f921"
             ]
            ],
            "type": "surface"
           }
          ],
          "table": [
           {
            "cells": {
             "fill": {
              "color": "#EBF0F8"
             },
             "line": {
              "color": "white"
             }
            },
            "header": {
             "fill": {
              "color": "#C8D4E3"
             },
             "line": {
              "color": "white"
             }
            },
            "type": "table"
           }
          ]
         },
         "layout": {
          "annotationdefaults": {
           "arrowcolor": "#2a3f5f",
           "arrowhead": 0,
           "arrowwidth": 1
          },
          "autotypenumbers": "strict",
          "coloraxis": {
           "colorbar": {
            "outlinewidth": 0,
            "ticks": ""
           }
          },
          "colorscale": {
           "diverging": [
            [
             0,
             "#8e0152"
            ],
            [
             0.1,
             "#c51b7d"
            ],
            [
             0.2,
             "#de77ae"
            ],
            [
             0.3,
             "#f1b6da"
            ],
            [
             0.4,
             "#fde0ef"
            ],
            [
             0.5,
             "#f7f7f7"
            ],
            [
             0.6,
             "#e6f5d0"
            ],
            [
             0.7,
             "#b8e186"
            ],
            [
             0.8,
             "#7fbc41"
            ],
            [
             0.9,
             "#4d9221"
            ],
            [
             1,
             "#276419"
            ]
           ],
           "sequential": [
            [
             0.0,
             "#0d0887"
            ],
            [
             0.1111111111111111,
             "#46039f"
            ],
            [
             0.2222222222222222,
             "#7201a8"
            ],
            [
             0.3333333333333333,
             "#9c179e"
            ],
            [
             0.4444444444444444,
             "#bd3786"
            ],
            [
             0.5555555555555556,
             "#d8576b"
            ],
            [
             0.6666666666666666,
             "#ed7953"
            ],
            [
             0.7777777777777778,
             "#fb9f3a"
            ],
            [
             0.8888888888888888,
             "#fdca26"
            ],
            [
             1.0,
             "#f0f921"
            ]
           ],
           "sequentialminus": [
            [
             0.0,
             "#0d0887"
            ],
            [
             0.1111111111111111,
             "#46039f"
            ],
            [
             0.2222222222222222,
             "#7201a8"
            ],
            [
             0.3333333333333333,
             "#9c179e"
            ],
            [
             0.4444444444444444,
             "#bd3786"
            ],
            [
             0.5555555555555556,
             "#d8576b"
            ],
            [
             0.6666666666666666,
             "#ed7953"
            ],
            [
             0.7777777777777778,
             "#fb9f3a"
            ],
            [
             0.8888888888888888,
             "#fdca26"
            ],
            [
             1.0,
             "#f0f921"
            ]
           ]
          },
          "colorway": [
           "#636efa",
           "#EF553B",
           "#00cc96",
           "#ab63fa",
           "#FFA15A",
           "#19d3f3",
           "#FF6692",
           "#B6E880",
           "#FF97FF",
           "#FECB52"
          ],
          "font": {
           "color": "#2a3f5f"
          },
          "geo": {
           "bgcolor": "white",
           "lakecolor": "white",
           "landcolor": "#E5ECF6",
           "showlakes": true,
           "showland": true,
           "subunitcolor": "white"
          },
          "hoverlabel": {
           "align": "left"
          },
          "hovermode": "closest",
          "mapbox": {
           "style": "light"
          },
          "paper_bgcolor": "white",
          "plot_bgcolor": "#E5ECF6",
          "polar": {
           "angularaxis": {
            "gridcolor": "white",
            "linecolor": "white",
            "ticks": ""
           },
           "bgcolor": "#E5ECF6",
           "radialaxis": {
            "gridcolor": "white",
            "linecolor": "white",
            "ticks": ""
           }
          },
          "scene": {
           "xaxis": {
            "backgroundcolor": "#E5ECF6",
            "gridcolor": "white",
            "gridwidth": 2,
            "linecolor": "white",
            "showbackground": true,
            "ticks": "",
            "zerolinecolor": "white"
           },
           "yaxis": {
            "backgroundcolor": "#E5ECF6",
            "gridcolor": "white",
            "gridwidth": 2,
            "linecolor": "white",
            "showbackground": true,
            "ticks": "",
            "zerolinecolor": "white"
           },
           "zaxis": {
            "backgroundcolor": "#E5ECF6",
            "gridcolor": "white",
            "gridwidth": 2,
            "linecolor": "white",
            "showbackground": true,
            "ticks": "",
            "zerolinecolor": "white"
           }
          },
          "shapedefaults": {
           "line": {
            "color": "#2a3f5f"
           }
          },
          "ternary": {
           "aaxis": {
            "gridcolor": "white",
            "linecolor": "white",
            "ticks": ""
           },
           "baxis": {
            "gridcolor": "white",
            "linecolor": "white",
            "ticks": ""
           },
           "bgcolor": "#E5ECF6",
           "caxis": {
            "gridcolor": "white",
            "linecolor": "white",
            "ticks": ""
           }
          },
          "title": {
           "x": 0.05
          },
          "xaxis": {
           "automargin": true,
           "gridcolor": "white",
           "linecolor": "white",
           "ticks": "",
           "title": {
            "standoff": 15
           },
           "zerolinecolor": "white",
           "zerolinewidth": 2
          },
          "yaxis": {
           "automargin": true,
           "gridcolor": "white",
           "linecolor": "white",
           "ticks": "",
           "title": {
            "standoff": 15
           },
           "zerolinecolor": "white",
           "zerolinewidth": 2
          }
         }
        }
       },
       "config": {
        "plotlyServerURL": "https://plot.ly"
       }
      },
      "text/html": "<div>                            <div id=\"4b139dc3-7b3f-4ca5-9f23-ccf6b4704f7d\" class=\"plotly-graph-div\" style=\"height:800px; width:800px;\"></div>            <script type=\"text/javascript\">                require([\"plotly\"], function(Plotly) {                    window.PLOTLYENV=window.PLOTLYENV || {};                                    if (document.getElementById(\"4b139dc3-7b3f-4ca5-9f23-ccf6b4704f7d\")) {                    Plotly.newPlot(                        \"4b139dc3-7b3f-4ca5-9f23-ccf6b4704f7d\",                        [{\"marker\":{\"color\":[1,2,2,1,4,1,3,1,4,1,0,4,3,4,4,3,2,0,1,4,3,3,0,0,3,3,2,4,4,0,1,0,1,3,2,1,4,3,4,3,0,3,3,0,4,1,1,4,2,0,4,0,1,1,1,2,2,4,3,2,2,4,2,2,3,4,1,3,3,3,1,4,3,2,4,1,1,4,2,0,3,1,4,4,2,3,2,0,3,0,4,2,2,2,1,3,2,1,0,0,2,3,4,1,3,2,4,1,4,2,2,1,2,3,4,4,2,4,4,0,3,2,2,3,4,3,2,3,1,3,2,2,3,4,0,1,3,2,4,2,0,1,0,4,2,0,2,2,0,0,3,3,2,2,2,2,4,2,0,2,2,4,4,2,0,1,1,3,2,4,0,1,3,0,0,2,2,3,0,2,0,1,2,1,0,1,0,2,0,1,4,1,0,2,2,3,3,2,2,1,4,4,4,1,3,0,1,1,2,4,2,2,1,4,3,2,0,0,4,2,1,1,3,1,3,0,2,2,4,4,1,4,2,4,2,0,1,3,3,1,2,2,3,2,2,0,4,3,0,3,4,2,4,3,2,4,4,1,0,2,1,4,3,4,4,0,3,3,1,4,3,1,1,4,4,2,0,3,1,4,0,2,0,1,4,4,3,0,4,0,3,3,0],\"line\":{\"color\":\"black\",\"width\":10},\"size\":10},\"mode\":\"markers\",\"x\":[0.5811176482543291,-0.5118333189305652,-0.33849885492029896,0.8440570304529642,0.181357090528263,0.5406118558221084,-0.01450061862306769,0.4876277806690512,-0.11234382091372418,0.7738564068475745,0.06985323944458516,1.0993807627070027,-0.6519847373590804,0.7035497029650991,0.6120249256236464,-0.1691140469830103,-0.8975642129188298,-0.26043023918230157,1.6532000058962144,0.4628992428128573,-0.1779644904264698,-0.9929929200830231,-0.49963295105972627,-0.20770950291689985,-0.564411095296502,-0.7152672936659653,-0.19432791847822117,0.42494367899400576,0.41458603430911156,-0.47234594895165954,0.30581842177727764,0.06513276355530401,0.6085515209306775,-0.585710711761951,-0.11618583369526361,0.37803239397814653,0.32575634585774643,-0.05297406690048149,-0.46320495099013415,-0.815556341054981,-0.10360166699356671,-0.1229621965081576,-0.7031494548116302,-0.03778453384957422,-0.5325019194723879,1.196248559353818,1.1630931623043068,0.5011146524897785,-0.20419958923590598,-0.20513071055605067,0.32055096590870125,-0.0836887654161977,0.5052510798529765,0.6071383567777546,1.363848743116701,-0.45375770544713734,-0.5651572212838264,0.4397528803731886,-0.21486948602588804,-0.3308895872695311,-0.608980949508979,0.0395455231205264,-0.7442627719246357,-0.2929970568315359,-0.5191957920146673,0.23214503659890703,0.8763475876992022,-0.5612253836304387,-1.0032523418283754,0.026616169473720683,0.6306802572707491,0.5484184481946041,-1.1184588053396154,-0.5406804801590782,0.12156478646253328,0.8405694285444548,1.6259578225971603,0.8988257769002349,-0.7317551668030848,1.1643062223015528,-0.16166450704414356,0.4435764763859359,0.3233158946446872,0.5296260262781541,-0.6286755061924005,-0.8999776479742595,-0.8956199019583649,-0.1885488063150902,-0.07899206261873554,-0.09223679936223267,0.13073786041946334,-0.5115385976515504,-1.2360937446376283,-0.5478123828273483,0.3508575259799311,-1.0258928158614697,-0.39581954626393173,0.5174105302134733,0.3978955026041957,-0.15572221488275484,-0.6962602776691468,0.34346978092615044,0.7679136100809046,1.5697359368867387,-0.6694193351783796,-0.12752654475694097,0.5107232997138764,1.4383764472317697,0.14389616911299336,-1.2702052174337863,-1.220548969156719,1.5980703004560985,-0.37575863952714034,-0.4317594155314029,0.510721725902023,1.1514555440714422,-0.1763187311689645,0.6644011906330713,0.8750825319203256,0.5963190246024719,-0.6086884260982488,-0.5228064744280194,-0.8795380782299823,-0.2680016223553574,0.5255533626850408,-0.8027722237034458,-0.477727356534144,-0.38093305170383734,1.0123107918361638,-0.9292543983702951,-0.5445990808835016,-0.5953751097119651,0.20152074140428722,1.2127372623344026,0.7743662351581942,1.698091841062826,-0.4191576851097694,-0.8754809747247062,-0.013600836546094468,-0.43932469725608003,-0.00588780761513627,0.5034642162218718,0.10938921086407215,0.061413533748693974,-0.9481955012357455,-0.1877916596032815,-1.032712719475414,0.05429216046253855,-0.20897139640340712,0.1829568125581563,-0.3896876347638394,-0.16131970097094808,-0.23930965788882352,-0.575012914074752,-0.4735908579420498,-0.7384600387537891,0.0627605886435532,-0.13265779473702013,-0.42422437541640956,-0.6854940079551236,-0.4225066930796037,0.5767572743662477,0.22773555462138478,-0.4585605990813039,0.7306589065939103,0.2884612405225523,0.6001346930320504,-0.29032159427424886,-0.6512732655294351,0.07475754324013051,-0.22800755015346796,1.423921824475444,-0.401640648135398,0.1336235500277195,-0.22662694069657524,-0.5195029147395268,-0.630620139781712,-0.4435686572776779,0.08231412404601585,-0.4237611641953558,0.03219605067653765,1.6304849998121418,-0.714216557517138,1.1799913591986535,-0.3005941870892145,0.6467475465368386,-0.11681645822778998,-0.6453017754931668,0.4418238342727368,0.1976260670881396,0.49066737122094395,0.5441672367034744,-0.31480451287980815,-0.6013663365807519,-0.8094088680875815,-0.5038305908432561,-0.5445197178475979,-0.25380029800867693,-0.6949578815603603,0.5316818299959505,0.3985774130770947,0.5996675985722755,0.9352991097519612,0.31497006588925375,-0.42200900803814734,0.35033923751887047,0.8323063958166415,0.3958351036124674,-0.48263795177686236,0.2328456373717434,-0.5445340935290381,-0.14351049304525876,1.2351407580835427,0.21047802485461928,-0.01862003037648146,-0.5829447505155072,-0.3527751806671563,-0.20513071055605062,0.14006496120942968,-0.14558477397796352,0.4172205455260393,1.2578137804042833,-0.608178791870393,1.183828858486152,-0.8259229935584704,0.3559772213088355,-0.6565609294378079,-0.2449000892557777,0.0399364972695996,0.8942206890795967,0.3888957614368606,-0.18186933045975484,-0.66788830903848,-0.2171957826277537,-0.14825197385512545,0.041377578825982204,1.005579850860576,-0.014280954662434795,-0.9943462482495435,0.4745901659507513,-0.6842051230854281,-0.3873440817646443,-0.9585597882586959,-1.0669107548089605,-0.4358044829138182,-0.08264072377380378,-0.04445870237767623,-0.4689109504575988,-0.6562610428221523,-0.6226161495101376,-0.22401006840180368,-1.3701298717289994,0.5359415604686354,-0.5009176499292616,-0.09030561276670018,0.45407188281987665,0.06697056781398764,0.9506730016752709,0.32011745008249604,-0.8843550852755993,0.16583219514651287,1.1383534258693966,-0.4543764808468796,0.13742840877478,0.595394516213368,-0.25628253147357416,0.014169166484041054,-0.8839817052600464,0.9446248844408538,0.5449467680658725,-1.1881257166155303,0.526925642728305,0.5397546405908105,0.21243407099013675,0.29154627510796804,-0.1409788756687853,-0.19543989953123464,-0.1203375913569538,1.682358144706844,0.9971453205358376,-0.41870455858282873,-0.24669184964480761,0.21214387554057057,0.8657120548591658,-0.24908339565700785,-0.04336935291964447,-0.6351806208503289,0.0029564099602648426,0.04149478807190877,-0.4780176919937825,0.061872638367228026,0.06674286046878661,-0.12392794555037943],\"y\":[-0.5509675127648166,-0.13985716930505873,-0.35156382905759453,-0.7061637614425051,0.10595762363146999,-0.11544735542515834,-0.044475058981112724,-1.228863261533008,-0.0006676085678629163,0.19296291478880542,0.5806608016144229,0.518587877252313,0.22753385522879482,0.474576688249444,0.7801752385924906,-0.7026922465975984,-0.9418930815586017,0.7250710379686766,-0.08474242816471941,0.22897958889259074,-0.06260433428130353,-0.3295085837159101,0.5783126379600909,1.0720509629231452,0.0005543637623163464,-0.09062192078642312,-0.4074431860837188,0.18130241654180443,0.6802326668903881,0.6343494083722742,-1.036715309095164,0.4648673179860113,-0.8842027110286176,0.31424944777004526,0.09764769436434133,-1.2276367007750355,0.23278009754513246,-0.11956405632704815,0.6464652550656691,0.08100597280676199,1.3709552749421874,0.20183038883281457,0.18266677620953767,1.3169948920249226,0.6088505268497685,-0.32075520687888526,-0.5955264515827744,0.718269004917619,-0.5696611430549554,1.1545185234780726,-0.025095045001256772,0.9637963805510076,-1.1949533947395459,-0.30607476219021934,-0.24475112603444382,0.4534633721891512,-0.5839978402737682,0.4923891603162414,0.033298371513392516,-0.25158072434002354,-0.7332718142199235,-0.14337616679883583,-0.4554516389182944,-0.3705556843779577,0.30069658950175415,0.20178704584572427,-0.7163161525249319,0.5141422677350557,-0.2866992021446528,0.04529733419966633,-0.5936650142677885,0.19923072226536406,-0.2460068588549116,-0.16559107498549552,-0.11954368221701984,0.058940243681364246,-0.2396625307006949,0.8383757566476145,0.0047106774671934635,0.9681017393927237,-0.26915907484355617,-1.0812530783981118,0.2750302252920379,0.5577896664228611,-0.6604748203657693,-0.2591634569204522,-0.2661048849014001,0.5571564104824663,-0.14266312495861377,0.45144565319782104,0.1208772330141713,-0.44934644065927515,-0.08160972400806438,-0.9665953924800657,-1.0421934350586297,-0.07706273266234413,-0.8276318873275648,0.026506485903993106,1.545765987812043,0.5118821319809699,-0.2197382059530248,-0.001408638704923817,0.27455213020142427,-0.7550545575725431,0.563004395337617,-0.11893916097643485,0.35663045827049394,-1.0646449769639426,0.3172498790674959,0.22686691112741067,-0.5340657250981056,-0.354791281207286,0.04774362092419566,0.16262678371813105,0.11994101213259839,0.42963395005502064,-0.29174457611419374,0.33828506133303815,0.4041083429772548,0.7594345753962991,0.244339978914205,0.043069358963570344,-0.44453365989539084,-0.11751837281525199,0.05717473648928053,0.07978082823781478,0.14524943821602865,0.4172147645090388,-1.0714870522497,-0.20784854711453715,-0.40027207643362334,-0.540742610370878,-0.0647580740472802,0.8228043368856865,0.5001987516038549,-0.3390336561541131,0.367238462706344,-0.6004872266412266,-0.24178826600058015,-0.6812601861916061,0.5944890664132106,-1.1786755515608693,1.0500824144541518,-0.035939400038293275,-0.18374859526500756,1.0227142290503322,-0.6283431499424492,-0.47996897292198853,0.45934583597630724,1.1381860754640023,0.03271459558505416,0.19790497171588592,-0.39282123337305636,0.4349135380806501,-0.5813049347632359,-0.46156246701716985,0.27665680883597205,-0.05525686629794061,0.4998730242442495,-0.6533715272793312,0.27266127647061134,0.9561573858015685,-0.25613527211946147,-0.6450564180292331,0.4311240228965547,-1.511532783671964,-0.1133089621977539,-0.4865087897344246,-0.7381459838067777,-0.16431509513526765,0.5385895498323209,-0.37314461060415877,0.2657676228957843,0.4501986040013817,1.036444944220372,-0.2591176972021826,-0.6644183186680951,0.446071566000544,1.2783428056280695,-0.6035784186848516,1.1138378157496713,-0.440634806231334,-0.7408861481073497,-0.9998951056533631,0.9455270369521561,-0.8141165764378989,0.9566390305336694,-0.656798751137746,1.087722695417355,-0.6679487247508958,0.18935607903091278,-0.29556132599710344,0.6250370005085777,-0.628858206689093,-0.9143877632155482,0.4164988432624594,0.22098013297853916,-0.17844683913077372,-0.6777166804001358,-0.7569238957716568,0.30286311652936165,0.3923744625402469,-0.14412574818440974,-1.2415710494047445,0.38879565870986693,0.8618280252504782,0.32379334530126436,-0.9555011237618085,0.06394957104689057,0.17707195705857218,-0.39251662352898886,-0.41662188059427874,-0.6785370267654691,0.1934799132455251,-0.49703978168708873,0.2363066138067146,0.8369452997615682,1.1545185234780724,0.5383574277421013,-0.44081466152868376,-0.7634210503316055,-0.4337244824754351,-0.47472558489338273,-0.8413482846897629,0.019617785493915397,1.3792900243196924,-0.5070309836929812,-0.5010153497211421,0.47835094657087296,0.03729143959795325,-0.5259308684295528,0.11754158579410903,-0.8714492426452185,0.06333993044635601,-0.20754954023022243,0.9217212621029027,-0.18991861963097778,0.0730551968522902,-0.251639555672714,-1.27930241860539,-0.6717142858099453,-0.10237756464828675,0.14984206685968243,-0.23672753072714794,-0.02849472359701317,0.3645725522116088,0.06284557484223396,-0.35560170935038987,0.6675960260187939,0.07796900199971257,0.556192764858041,-0.2525538011328715,0.049606466180234336,-0.020102708761700106,-0.40658817214723914,0.5999511566770255,-0.09481762130300808,0.28790058887538794,0.8566067291035228,0.12668348356020093,-0.7682974912159474,0.02574391284758894,-0.05525530399333758,0.10609037345994182,0.6007840329411811,0.428620879794861,-0.24731155675208877,-0.016892746041679334,0.10405659167560888,0.7666264782704711,-0.5364132127088124,0.13953571979852575,-0.8096754084430529,-0.056775787068816475,1.058325685005072,-0.09770213611682192,0.7426523507030556,-0.09294079195723363,-0.6313495297257851,0.23765523099913458,0.747107309629502,-0.07254750358091343,0.7968612363928721,-1.16251397825307,0.17815276750206244,0.9623988505345329,-0.5350856358312381,0.5567447991782636,0.11879710368862549,0.7600558365576364,-0.059875527702313185,0.10607080276720407,0.6207530893420975],\"z\":[-1.0117227787101168,0.46409799560728815,0.24068526216486769,0.08196220384847183,0.1732384922048848,-0.4967076209684107,-0.12625399700921278,-0.09041974239355093,0.8314231261240139,-0.7299880656853616,-0.07158758049805684,0.14360825101923871,-0.8204287371257274,0.41501055338314036,0.43450482247207445,-0.3441229792920492,-0.020453651061523383,-0.12207414103052917,-0.33943398383565787,0.2520547766680792,-0.09006586213105064,-1.3965591075619628,0.1184062512846605,-1.0164508421572929,-0.32279010863305707,-0.2527533492513007,-0.05243774101986338,0.7286632747411369,0.18652691829414877,-0.5610011174559154,-0.7133471351907742,-0.1174965300384137,-0.8591351748432169,-0.04026046837485179,0.11424919174716684,-1.0004577888691975,0.02321685502615569,-0.4585242910718289,0.9727924727054879,-0.03633958283821069,-0.09628978289972141,-0.19047170228627996,-1.4548494069969349,-0.34888898207237296,0.6775180939654906,0.3802485156441749,-1.068703634172739,0.7249527370870195,0.49371226174745775,-1.0045132037805382,0.04395143646048122,-0.5163992907959315,-0.4362460043030671,-0.08785752977062482,0.4329763840721846,0.39311156046399504,0.3330471622918758,0.44549797169417327,-0.5382824699578396,0.4178135633360372,0.0996807685457711,1.2922777728928072,0.5451404729533021,0.44133956445923794,-0.46590104429468737,0.5868698218761554,-0.36561049619788705,-0.832505861668644,-1.4239566227410354,-1.1226053975110826,-0.28990980487629614,0.9563991534016703,-0.46937947707807026,0.8609021535759127,0.8200827625542321,-0.7544364898552013,-0.2745443296359053,0.353642775316785,0.12925378181823022,-0.6524568615592248,-0.21331410584237775,-0.1752876893918196,1.2272252253771812,0.3308906672951218,0.2499706781004503,-0.1802854922874597,0.19683046225508102,-0.6422545996104118,-0.4855098585762164,-0.26617893098581336,1.0472944036026561,0.5439685781927562,0.17893217783856571,0.3169261740877217,-0.054475000265121074,-0.2991144509064382,0.3552553766495201,-0.3523561793453959,0.06719508045575276,-0.1915055039131935,0.017999667693967637,-0.9934334115105135,0.35856602839577606,0.23953757070308498,-0.4020941030944683,0.40827216394607796,0.9134556323847214,-0.08155738169009379,0.671245541617599,0.24209149829887122,-0.00954251666673099,0.21587452059575882,0.5854547445187979,-0.17314190596272705,0.06365713649281472,0.4542540493867723,0.9861826020251351,0.27287430013296887,0.2644410245007882,-0.04834795152632955,-0.6177106390162366,0.4062204645017068,0.2458352369465464,-0.770924741970704,0.6741571631896465,-0.2715925931364357,0.07064709697411031,-0.5956617596697384,0.19564130412695854,-0.7639230260983122,0.3132428789263255,0.8524217234970254,-0.33814818409375985,0.5687714953517008,-0.6186577261161929,0.014660665964659972,-0.4512615151877732,0.6185009948617526,1.4743447163496763,0.1844081502842011,-0.05905723052197851,0.23938984484388967,0.3419484187416477,0.37119027934147114,0.16611689954294603,-0.7013429639157114,1.1046007701791958,0.05512812080066306,-0.6497681686744397,-0.13411236952392336,-0.056174565357527344,-0.9181217192453268,0.9526114379805005,0.2632353571936495,-0.22055627348743434,0.20176658221371846,1.4954331044409293,0.099534912673065,0.014703011315081642,0.6790670843368833,0.7225865692656153,0.36364810702942424,0.25317979890684195,-0.10983117061700769,-0.43723966358052413,-0.9856203294243483,-0.7481099857375683,-0.4096430300074802,0.31869663712178825,0.553969731053946,0.13947411199056087,0.09852409925486656,-0.19254978592367572,-0.40703487339960914,-1.1184264879842147,0.8036048367240833,0.6941425943505123,-0.24325096763682355,-0.5722672346291204,0.4539474481096794,0.16469864916058738,0.03279798859264926,0.045427975007224126,-0.1858155651705153,-0.6320168215368704,-0.4157271737085168,0.050800430770435896,0.6738302413077321,-0.8994479611850416,-1.1229771343366775,0.6811142362548502,-0.23241629729809798,-0.1819365811049206,0.7351356444804344,-0.06649271016155887,-0.31039137096247793,-0.2627093865038394,0.2180269044628832,0.32056519890574997,-0.052892671149355946,0.7078800213632461,0.8432429871881367,0.44096811068990144,-0.29275183295878826,-0.16826413593280437,-0.4756648997864573,-1.2563054351386653,-0.06922290637955301,0.49807860899882217,0.6795489418485534,0.6824318076694331,0.13887031950654716,0.11325127638751738,0.603954412764796,-0.4939703194177983,0.28947035242057334,-0.09199140096078483,-1.0045132037805384,0.8612097238242828,0.2990679414572035,-0.324751067399896,0.4237529722476325,-0.27153043708922947,-0.8931768028419252,-0.874835959971296,-0.17119724368076294,0.5075101616838325,0.3855597195321016,0.3007265689929467,0.809870098820215,-0.7229069714436587,0.6621890713815369,0.38317519138615547,1.0776015735288973,0.8688772927946621,-0.021073831332438436,-0.6271198486603906,-0.3662702055274514,-0.7498837381775559,-0.8235006874131202,-0.08567604493020893,0.008237627486679621,-0.25456338023650993,0.13904730140660473,1.0261538588841885,-0.220973751140681,0.6460873055493026,-1.4812855321554936,-0.03637476774618,-0.8182625382076353,0.9109486827928605,0.24162806602033562,0.7277512331696303,-1.0169522061730847,0.39180506607830756,0.20849484914368585,0.23664823923511286,-0.43051871832657634,-0.7767624671860976,0.2892700677975795,-0.647602585036196,0.4493867308217013,-0.9220936977033879,0.7104563507176985,0.7260167395733543,-0.09867178730816542,-0.7898172160313042,-0.27572240381566937,-1.2060184227134203,0.4023413038283525,-0.47792845740259626,-0.5705102233694201,-0.6174936813146399,0.4541628140146638,0.42071251091333356,0.3612990742368845,-0.47826338984460876,-0.3775192743515763,0.15783347686181545,0.7154203022595518,0.1922176670789538,0.40901655857077795,-0.05306547116183224,-0.26202827317021515,0.740800944769382,0.5862342771711012,-0.49724159369938253,-0.11905398926851087,0.2677000596449855,-0.013527108356103323,-0.5506057641938961,-0.06961919330018447,-0.0879982506506621],\"type\":\"scatter3d\"}],                        {\"height\":800,\"margin\":{\"l\":0,\"r\":0},\"scene\":{\"xaxis\":{\"title\":{\"text\":\"Age -->\"}},\"yaxis\":{\"title\":{\"text\":\"Spending Score--->\"}},\"zaxis\":{\"title\":{\"text\":\"Annual Income-->\"}}},\"width\":800,\"template\":{\"data\":{\"bar\":[{\"error_x\":{\"color\":\"#2a3f5f\"},\"error_y\":{\"color\":\"#2a3f5f\"},\"marker\":{\"line\":{\"color\":\"#E5ECF6\",\"width\":0.5},\"pattern\":{\"fillmode\":\"overlay\",\"size\":10,\"solidity\":0.2}},\"type\":\"bar\"}],\"barpolar\":[{\"marker\":{\"line\":{\"color\":\"#E5ECF6\",\"width\":0.5},\"pattern\":{\"fillmode\":\"overlay\",\"size\":10,\"solidity\":0.2}},\"type\":\"barpolar\"}],\"carpet\":[{\"aaxis\":{\"endlinecolor\":\"#2a3f5f\",\"gridcolor\":\"white\",\"linecolor\":\"white\",\"minorgridcolor\":\"white\",\"startlinecolor\":\"#2a3f5f\"},\"baxis\":{\"endlinecolor\":\"#2a3f5f\",\"gridcolor\":\"white\",\"linecolor\":\"white\",\"minorgridcolor\":\"white\",\"startlinecolor\":\"#2a3f5f\"},\"type\":\"carpet\"}],\"choropleth\":[{\"colorbar\":{\"outlinewidth\":0,\"ticks\":\"\"},\"type\":\"choropleth\"}],\"contour\":[{\"colorbar\":{\"outlinewidth\":0,\"ticks\":\"\"},\"colorscale\":[[0.0,\"#0d0887\"],[0.1111111111111111,\"#46039f\"],[0.2222222222222222,\"#7201a8\"],[0.3333333333333333,\"#9c179e\"],[0.4444444444444444,\"#bd3786\"],[0.5555555555555556,\"#d8576b\"],[0.6666666666666666,\"#ed7953\"],[0.7777777777777778,\"#fb9f3a\"],[0.8888888888888888,\"#fdca26\"],[1.0,\"#f0f921\"]],\"type\":\"contour\"}],\"contourcarpet\":[{\"colorbar\":{\"outlinewidth\":0,\"ticks\":\"\"},\"type\":\"contourcarpet\"}],\"heatmap\":[{\"colorbar\":{\"outlinewidth\":0,\"ticks\":\"\"},\"colorscale\":[[0.0,\"#0d0887\"],[0.1111111111111111,\"#46039f\"],[0.2222222222222222,\"#7201a8\"],[0.3333333333333333,\"#9c179e\"],[0.4444444444444444,\"#bd3786\"],[0.5555555555555556,\"#d8576b\"],[0.6666666666666666,\"#ed7953\"],[0.7777777777777778,\"#fb9f3a\"],[0.8888888888888888,\"#fdca26\"],[1.0,\"#f0f921\"]],\"type\":\"heatmap\"}],\"heatmapgl\":[{\"colorbar\":{\"outlinewidth\":0,\"ticks\":\"\"},\"colorscale\":[[0.0,\"#0d0887\"],[0.1111111111111111,\"#46039f\"],[0.2222222222222222,\"#7201a8\"],[0.3333333333333333,\"#9c179e\"],[0.4444444444444444,\"#bd3786\"],[0.5555555555555556,\"#d8576b\"],[0.6666666666666666,\"#ed7953\"],[0.7777777777777778,\"#fb9f3a\"],[0.8888888888888888,\"#fdca26\"],[1.0,\"#f0f921\"]],\"type\":\"heatmapgl\"}],\"histogram\":[{\"marker\":{\"pattern\":{\"fillmode\":\"overlay\",\"size\":10,\"solidity\":0.2}},\"type\":\"histogram\"}],\"histogram2d\":[{\"colorbar\":{\"outlinewidth\":0,\"ticks\":\"\"},\"colorscale\":[[0.0,\"#0d0887\"],[0.1111111111111111,\"#46039f\"],[0.2222222222222222,\"#7201a8\"],[0.3333333333333333,\"#9c179e\"],[0.4444444444444444,\"#bd3786\"],[0.5555555555555556,\"#d8576b\"],[0.6666666666666666,\"#ed7953\"],[0.7777777777777778,\"#fb9f3a\"],[0.8888888888888888,\"#fdca26\"],[1.0,\"#f0f921\"]],\"type\":\"histogram2d\"}],\"histogram2dcontour\":[{\"colorbar\":{\"outlinewidth\":0,\"ticks\":\"\"},\"colorscale\":[[0.0,\"#0d0887\"],[0.1111111111111111,\"#46039f\"],[0.2222222222222222,\"#7201a8\"],[0.3333333333333333,\"#9c179e\"],[0.4444444444444444,\"#bd3786\"],[0.5555555555555556,\"#d8576b\"],[0.6666666666666666,\"#ed7953\"],[0.7777777777777778,\"#fb9f3a\"],[0.8888888888888888,\"#fdca26\"],[1.0,\"#f0f921\"]],\"type\":\"histogram2dcontour\"}],\"mesh3d\":[{\"colorbar\":{\"outlinewidth\":0,\"ticks\":\"\"},\"type\":\"mesh3d\"}],\"parcoords\":[{\"line\":{\"colorbar\":{\"outlinewidth\":0,\"ticks\":\"\"}},\"type\":\"parcoords\"}],\"pie\":[{\"automargin\":true,\"type\":\"pie\"}],\"scatter\":[{\"marker\":{\"colorbar\":{\"outlinewidth\":0,\"ticks\":\"\"}},\"type\":\"scatter\"}],\"scatter3d\":[{\"line\":{\"colorbar\":{\"outlinewidth\":0,\"ticks\":\"\"}},\"marker\":{\"colorbar\":{\"outlinewidth\":0,\"ticks\":\"\"}},\"type\":\"scatter3d\"}],\"scattercarpet\":[{\"marker\":{\"colorbar\":{\"outlinewidth\":0,\"ticks\":\"\"}},\"type\":\"scattercarpet\"}],\"scattergeo\":[{\"marker\":{\"colorbar\":{\"outlinewidth\":0,\"ticks\":\"\"}},\"type\":\"scattergeo\"}],\"scattergl\":[{\"marker\":{\"colorbar\":{\"outlinewidth\":0,\"ticks\":\"\"}},\"type\":\"scattergl\"}],\"scattermapbox\":[{\"marker\":{\"colorbar\":{\"outlinewidth\":0,\"ticks\":\"\"}},\"type\":\"scattermapbox\"}],\"scatterpolar\":[{\"marker\":{\"colorbar\":{\"outlinewidth\":0,\"ticks\":\"\"}},\"type\":\"scatterpolar\"}],\"scatterpolargl\":[{\"marker\":{\"colorbar\":{\"outlinewidth\":0,\"ticks\":\"\"}},\"type\":\"scatterpolargl\"}],\"scatterternary\":[{\"marker\":{\"colorbar\":{\"outlinewidth\":0,\"ticks\":\"\"}},\"type\":\"scatterternary\"}],\"surface\":[{\"colorbar\":{\"outlinewidth\":0,\"ticks\":\"\"},\"colorscale\":[[0.0,\"#0d0887\"],[0.1111111111111111,\"#46039f\"],[0.2222222222222222,\"#7201a8\"],[0.3333333333333333,\"#9c179e\"],[0.4444444444444444,\"#bd3786\"],[0.5555555555555556,\"#d8576b\"],[0.6666666666666666,\"#ed7953\"],[0.7777777777777778,\"#fb9f3a\"],[0.8888888888888888,\"#fdca26\"],[1.0,\"#f0f921\"]],\"type\":\"surface\"}],\"table\":[{\"cells\":{\"fill\":{\"color\":\"#EBF0F8\"},\"line\":{\"color\":\"white\"}},\"header\":{\"fill\":{\"color\":\"#C8D4E3\"},\"line\":{\"color\":\"white\"}},\"type\":\"table\"}]},\"layout\":{\"annotationdefaults\":{\"arrowcolor\":\"#2a3f5f\",\"arrowhead\":0,\"arrowwidth\":1},\"autotypenumbers\":\"strict\",\"coloraxis\":{\"colorbar\":{\"outlinewidth\":0,\"ticks\":\"\"}},\"colorscale\":{\"diverging\":[[0,\"#8e0152\"],[0.1,\"#c51b7d\"],[0.2,\"#de77ae\"],[0.3,\"#f1b6da\"],[0.4,\"#fde0ef\"],[0.5,\"#f7f7f7\"],[0.6,\"#e6f5d0\"],[0.7,\"#b8e186\"],[0.8,\"#7fbc41\"],[0.9,\"#4d9221\"],[1,\"#276419\"]],\"sequential\":[[0.0,\"#0d0887\"],[0.1111111111111111,\"#46039f\"],[0.2222222222222222,\"#7201a8\"],[0.3333333333333333,\"#9c179e\"],[0.4444444444444444,\"#bd3786\"],[0.5555555555555556,\"#d8576b\"],[0.6666666666666666,\"#ed7953\"],[0.7777777777777778,\"#fb9f3a\"],[0.8888888888888888,\"#fdca26\"],[1.0,\"#f0f921\"]],\"sequentialminus\":[[0.0,\"#0d0887\"],[0.1111111111111111,\"#46039f\"],[0.2222222222222222,\"#7201a8\"],[0.3333333333333333,\"#9c179e\"],[0.4444444444444444,\"#bd3786\"],[0.5555555555555556,\"#d8576b\"],[0.6666666666666666,\"#ed7953\"],[0.7777777777777778,\"#fb9f3a\"],[0.8888888888888888,\"#fdca26\"],[1.0,\"#f0f921\"]]},\"colorway\":[\"#636efa\",\"#EF553B\",\"#00cc96\",\"#ab63fa\",\"#FFA15A\",\"#19d3f3\",\"#FF6692\",\"#B6E880\",\"#FF97FF\",\"#FECB52\"],\"font\":{\"color\":\"#2a3f5f\"},\"geo\":{\"bgcolor\":\"white\",\"lakecolor\":\"white\",\"landcolor\":\"#E5ECF6\",\"showlakes\":true,\"showland\":true,\"subunitcolor\":\"white\"},\"hoverlabel\":{\"align\":\"left\"},\"hovermode\":\"closest\",\"mapbox\":{\"style\":\"light\"},\"paper_bgcolor\":\"white\",\"plot_bgcolor\":\"#E5ECF6\",\"polar\":{\"angularaxis\":{\"gridcolor\":\"white\",\"linecolor\":\"white\",\"ticks\":\"\"},\"bgcolor\":\"#E5ECF6\",\"radialaxis\":{\"gridcolor\":\"white\",\"linecolor\":\"white\",\"ticks\":\"\"}},\"scene\":{\"xaxis\":{\"backgroundcolor\":\"#E5ECF6\",\"gridcolor\":\"white\",\"gridwidth\":2,\"linecolor\":\"white\",\"showbackground\":true,\"ticks\":\"\",\"zerolinecolor\":\"white\"},\"yaxis\":{\"backgroundcolor\":\"#E5ECF6\",\"gridcolor\":\"white\",\"gridwidth\":2,\"linecolor\":\"white\",\"showbackground\":true,\"ticks\":\"\",\"zerolinecolor\":\"white\"},\"zaxis\":{\"backgroundcolor\":\"#E5ECF6\",\"gridcolor\":\"white\",\"gridwidth\":2,\"linecolor\":\"white\",\"showbackground\":true,\"ticks\":\"\",\"zerolinecolor\":\"white\"}},\"shapedefaults\":{\"line\":{\"color\":\"#2a3f5f\"}},\"ternary\":{\"aaxis\":{\"gridcolor\":\"white\",\"linecolor\":\"white\",\"ticks\":\"\"},\"baxis\":{\"gridcolor\":\"white\",\"linecolor\":\"white\",\"ticks\":\"\"},\"bgcolor\":\"#E5ECF6\",\"caxis\":{\"gridcolor\":\"white\",\"linecolor\":\"white\",\"ticks\":\"\"}},\"title\":{\"x\":0.05},\"xaxis\":{\"automargin\":true,\"gridcolor\":\"white\",\"linecolor\":\"white\",\"ticks\":\"\",\"title\":{\"standoff\":15},\"zerolinecolor\":\"white\",\"zerolinewidth\":2},\"yaxis\":{\"automargin\":true,\"gridcolor\":\"white\",\"linecolor\":\"white\",\"ticks\":\"\",\"title\":{\"standoff\":15},\"zerolinecolor\":\"white\",\"zerolinewidth\":2}}}},                        {\"responsive\": true}                    ).then(function(){\n                            \nvar gd = document.getElementById('4b139dc3-7b3f-4ca5-9f23-ccf6b4704f7d');\nvar x = new MutationObserver(function (mutations, observer) {{\n        var display = window.getComputedStyle(gd).display;\n        if (!display || display === 'none') {{\n            console.log([gd, 'removed!']);\n            Plotly.purge(gd);\n            observer.disconnect();\n        }}\n}});\n\n// Listen for the removal of the full notebook cells\nvar notebookContainer = gd.closest('#notebook-container');\nif (notebookContainer) {{\n    x.observe(notebookContainer, {childList: true});\n}}\n\n// Listen for the clearing of the current output cell\nvar outputEl = gd.closest('.output');\nif (outputEl) {{\n    x.observe(outputEl, {childList: true});\n}}\n\n                        })                };                });            </script>        </div>"
     },
     "metadata": {},
     "output_type": "display_data"
    }
   ],
   "source": [
    "model = KMeans(n_clusters=5, init=\"k-means++\", max_iter=300, n_init=10, random_state=0)\n",
    "model.fit_predict(transformed.iloc[:, :3])\n",
    "\n",
    "Scene = dict(xaxis=dict(title='PCA_1-->'), yaxis=dict(title='PCA_2--->'), zaxis=dict(title='PCA_3--->'))\n",
    "\n",
    "labels = model.labels_\n",
    "trace = go.Scatter3d(x=transformed.iloc[:, 0], y=transformed.iloc[:, 1], z=transformed.iloc[:, 2], mode='markers',\n",
    "                     marker=dict(color=labels, size=10, line=dict(color='black',width=10)))\n",
    "layout = go.Layout(margin=dict(l=0,r=0),scene = Scene,height = 800,width = 800)\n",
    "data = [trace]\n",
    "fig = go.Figure(data = data, layout = layout)\n",
    "fig.show()"
   ],
   "metadata": {
    "collapsed": false,
    "pycharm": {
     "name": "#%%\n"
    }
   }
  },
  {
   "cell_type": "code",
   "execution_count": 49,
   "outputs": [
    {
     "data": {
      "text/plain": "(['bowler', 'the-log', 'ice-wizard', 'tombstone'],\n 1.0,\n {'prince_giant_baby-dragon_tombstone'})"
     },
     "execution_count": 49,
     "metadata": {},
     "output_type": "execute_result"
    }
   ],
   "source": [
    "inpt = ['prince', 'giant', 'baby-dragon', 'tombstone']\n",
    "\n",
    "def recommend(X, k, calculated):\n",
    "    str_ = '_'.join(X)\n",
    "    if str_ in calculated:\n",
    "        return [], 0, calculated\n",
    "    calculated.add(str_)\n",
    "    new_cards = []\n",
    "    df_local = df\n",
    "    for elem in X:\n",
    "        df_local = df_local[df_local[elem]]\n",
    "    if len(df_local) > 0:\n",
    "        for i in range(k):\n",
    "            card_sets = pd.DataFrame()\n",
    "            for new_elem in player_deck:\n",
    "                df_local_ = df_local[df_local[new_elem]]\n",
    "                win_ratio = df_local_[\"has_won\"].mean()\n",
    "                card_sets = pd.concat([card_sets, pd.DataFrame({'card': new_elem, 'win_ratio': win_ratio}, index=[0])])\n",
    "            card_sets.sort_values('win_ratio', ascending=False, inplace=True)\n",
    "            sd = card_sets.win_ratio.std()\n",
    "            sd = 0 if sd is None else sd\n",
    "            proposal = card_sets[card_sets.win_ratio >= card_sets.win_ratio.mean() + sd]\n",
    "            elem = proposal.sample(n=1, weights='win_ratio')\n",
    "            df_local = df_local[df_local[elem.card.item()]]\n",
    "            new_cards.append(elem.card.item())\n",
    "        return new_cards, elem.win_ratio.item(), calculated\n",
    "    else:\n",
    "        best_cards, win = None, 1\n",
    "        for elems in list(itertools.combinations(X, 8-k-1)):\n",
    "            new_cards, win_, calculated = recommend(elems, k+1, calculated)\n",
    "            if win_ > win:\n",
    "                win = win_\n",
    "                best_cards = new_cards\n",
    "        return best_cards, win, calculated\n",
    "\n",
    "best_cards, win_ratio, _ = recommend(inpt, 4, set())\n",
    "best_cards, win_ratio"
   ],
   "metadata": {
    "collapsed": false,
    "pycharm": {
     "name": "#%%\n"
    }
   }
  }
 ],
 "metadata": {
  "kernelspec": {
   "display_name": "Python 3",
   "language": "python",
   "name": "python3"
  },
  "language_info": {
   "codemirror_mode": {
    "name": "ipython",
    "version": 2
   },
   "file_extension": ".py",
   "mimetype": "text/x-python",
   "name": "python",
   "nbconvert_exporter": "python",
   "pygments_lexer": "ipython2",
   "version": "2.7.6"
  }
 },
 "nbformat": 4,
 "nbformat_minor": 0
}